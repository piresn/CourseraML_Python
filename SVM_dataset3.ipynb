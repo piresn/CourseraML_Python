{
 "cells": [
  {
   "cell_type": "code",
   "execution_count": 1,
   "metadata": {},
   "outputs": [
    {
     "data": {
      "application/javascript": [
       "IPython.notebook.set_autosave_interval(0)"
      ]
     },
     "metadata": {},
     "output_type": "display_data"
    },
    {
     "name": "stdout",
     "output_type": "stream",
     "text": [
      "Autosave disabled\n"
     ]
    }
   ],
   "source": [
    "%matplotlib inline\n",
    "%autosave 0\n",
    "\n",
    "import math\n",
    "import numpy as np\n",
    "from scipy.io import loadmat\n",
    "import matplotlib.pyplot as plt\n",
    "from sklearn import svm\n",
    "from sklearn.model_selection import GridSearchCV"
   ]
  },
  {
   "cell_type": "markdown",
   "metadata": {},
   "source": [
    "# Import dataset 3"
   ]
  },
  {
   "cell_type": "code",
   "execution_count": 2,
   "metadata": {},
   "outputs": [
    {
     "name": "stdout",
     "output_type": "stream",
     "text": [
      "dict_keys(['__header__', '__version__', '__globals__', 'X', 'y', 'yval', 'Xval'])\n"
     ]
    }
   ],
   "source": [
    "data = loadmat(\"/Users/nunopires/Documents/Coursera/machine-learning-ex6/ex6/ex6data3.mat\",\n",
    "       matlab_compatible = True)\n",
    "\n",
    "print(data.keys())\n",
    "\n",
    "X_train = data['X']\n",
    "y_train = data['y'][:,0]\n",
    "X_val = data['Xval']\n",
    "y_val = data['yval'][:,0]"
   ]
  },
  {
   "cell_type": "code",
   "execution_count": 3,
   "metadata": {},
   "outputs": [
    {
     "data": {
      "text/plain": [
       "(106, 105, 87, 113)"
      ]
     },
     "execution_count": 3,
     "metadata": {},
     "output_type": "execute_result"
    },
    {
     "data": {
      "image/png": "[encoded data removed]",
      "text/plain": [
       "<matplotlib.figure.Figure at 0x111bb21d0>"
      ]
     },
     "metadata": {},
     "output_type": "display_data"
    }
   ],
   "source": [
    "pos_train = X_train[y_train == 1 ,]\n",
    "neg_train = X_train[y_train == 0 ,]\n",
    "pos_val = X_val[y_val == 1 ,]\n",
    "neg_val = X_val[y_val == 0 ,]\n",
    "\n",
    "plt.plot(neg_train[:,0], neg_train[:,1], 'x');\n",
    "plt.plot(pos_train[:,0], pos_train[:,1], 'x', color = 'red');\n",
    "plt.plot(neg_val[:,0], neg_val[:,1], '.', color = 'blue');\n",
    "plt.plot(pos_val[:,0], pos_val[:,1], '.', color = 'red');\n",
    "\n",
    "len(pos_train), len(neg_train), len(pos_val), len(neg_val),\n"
   ]
  },
  {
   "cell_type": "code",
   "execution_count": 4,
   "metadata": {
    "collapsed": true
   },
   "outputs": [],
   "source": [
    "def plotBoundary(X, y, svm, mesh = 200):\n",
    "    '''Plots the SVM boundary.'''\n",
    "    \n",
    "    x1 = np.linspace(min(X[:, 0]), max(X[:, 0]), mesh)\n",
    "    x2 = np.linspace(min(X[:, 1]), max(X[:, 1]), mesh) \n",
    "    \n",
    "    h = []\n",
    "    for i in x1:\n",
    "        for j in x2:\n",
    "            h.append(np.array([i,j]))\n",
    "            \n",
    "    z = svm.predict(h).reshape(len(x1), len(x2), order = 'F')\n",
    "    ''' !! Careful with order or reshape. Preset option 'C' did not work !!'''\n",
    "    \n",
    "    # Plot\n",
    "    on = y == 1 # positives\n",
    "    off = y == 0 # negatives\n",
    "\n",
    "    bound = plt.contour(x1, x2, z,\n",
    "                    levels = [0.5], color = 'red')\n",
    "    # plt.pcolormesh(x1, x2, z) # alternative\n",
    "    plt.plot(X[on, 0], X[on, 1], 'x', color = 'blue'); # Y positives\n",
    "    plt.plot(X[off, 0], X[off, 1], '+', color = 'green'); # Y negatives"
   ]
  },
  {
   "cell_type": "markdown",
   "metadata": {},
   "source": [
    "### Manually determine best C and gamma parameters\n",
    "\n",
    "Test range of values for C and sigma as in coursera tutorial. To convert from sigma to gamma, compare kernel formulas between tutorial and [SKlearn guide](http://scikit-learn.org/stable/modules/svm.html#svm-classification)"
   ]
  },
  {
   "cell_type": "code",
   "execution_count": 5,
   "metadata": {},
   "outputs": [
    {
     "name": "stdout",
     "output_type": "stream",
     "text": [
      "Best parameters are C = 1.00, sigma = 0.10 (-> gamma = 50.0); score = 0.9650\n"
     ]
    }
   ],
   "source": [
    "vals = [0.01, 0.03, 0.1, 0.3, 1, 3, 10, 30]\n",
    "\n",
    "out = []\n",
    "for C in vals:\n",
    "    for sigma in vals:\n",
    "                \n",
    "        gamma = 1 / (2 * sigma**2)\n",
    "        \n",
    "        clf = svm.SVC(C = C, gamma = gamma)\n",
    "        clf.fit(X_train, y_train)\n",
    "        out.append([C, sigma, gamma, clf.score(X_val, y_val)])\n",
    "        \n",
    "out = np.array(out)\n",
    "(a, b, c, d) = out[out[:,3].argmax(),:]\n",
    "\n",
    "print('Best parameters are C = %1.2f, sigma = %1.2f (-> gamma = %1.1f); score = %1.4f' % (a, b, c, d))"
   ]
  },
  {
   "cell_type": "markdown",
   "metadata": {},
   "source": [
    "Best parameters from Octave exercise were C = 1, sigma = 0.1"
   ]
  },
  {
   "cell_type": "code",
   "execution_count": 6,
   "metadata": {},
   "outputs": [
    {
     "data": {
      "image/png": "[encoded data removed]",
      "text/plain": [
       "<matplotlib.figure.Figure at 0x108ded208>"
      ]
     },
     "metadata": {},
     "output_type": "display_data"
    }
   ],
   "source": [
    "# SVM Parameters\n",
    "C = 1; gamma = 50;\n",
    "\n",
    "clf = svm.SVC(C = C, kernel='rbf', gamma = gamma).fit(X_train, y_train)\n",
    "\n",
    "plotBoundary(X_val, y_val, clf, mesh = 200) # plots only validation values"
   ]
  },
  {
   "cell_type": "markdown",
   "metadata": {},
   "source": [
    "## Find best parameters using sklearn gridsearch"
   ]
  },
  {
   "cell_type": "code",
   "execution_count": 7,
   "metadata": {
    "collapsed": true
   },
   "outputs": [],
   "source": [
    "def make_gamma(x):\n",
    "    return 1 / (2 * x**2)"
   ]
  },
  {
   "cell_type": "markdown",
   "metadata": {},
   "source": [
    "Check [SKlearn guide](http://scikit-learn.org/stable/modules/grid_search.html#grid-search-tips)"
   ]
  },
  {
   "cell_type": "code",
   "execution_count": 8,
   "metadata": {},
   "outputs": [
    {
     "name": "stdout",
     "output_type": "stream",
     "text": [
      "Best parameter are:  {'C': 10, 'gamma': 5.555555555555555}\n"
     ]
    }
   ],
   "source": [
    "\n",
    "vals = [0.01, 0.03, 0.1, 0.3, 1, 3, 10, 30]\n",
    "\n",
    "param_grid = [{'C': vals,\n",
    "               'gamma': [make_gamma(x) for x in vals]} # alternative [(1 / (2 * x**2)) for x in vals]\n",
    "             ]\n",
    "\n",
    "clf = GridSearchCV(svm.SVC(kernel = 'rbf'), param_grid, cv=5,\n",
    "                   scoring = 'accuracy')\n",
    "\n",
    "clf.fit(X_train, y_train)\n",
    "\n",
    "print('Best parameter are: ', clf.best_params_)"
   ]
  },
  {
   "cell_type": "markdown",
   "metadata": {},
   "source": [
    "Results are different from manual approach above, but this is probably because the cross-validation was made on the reduced train_set, rather than on the extra X_val set?"
   ]
  },
  {
   "cell_type": "code",
   "execution_count": 9,
   "metadata": {},
   "outputs": [
    {
     "name": "stdout",
     "output_type": "stream",
     "text": [
      "Best parameter are:  {'C': 10, 'gamma': 5.555555555555555}\n"
     ]
    }
   ],
   "source": [
    "X = np.vstack((X_train, X_val))\n",
    "y = np.concatenate((y_train, y_val))\n",
    "\n",
    "clf = GridSearchCV(svm.SVC(kernel = 'rbf'), param_grid, cv = 5,\n",
    "                   scoring = 'accuracy')\n",
    "\n",
    "clf.fit(X, y)\n",
    "\n",
    "print('Best parameter are: ', clf.best_params_)"
   ]
  },
  {
   "cell_type": "markdown",
   "metadata": {},
   "source": [
    "No, best parameters selected using the K-fold (?) strategy are still different than the manual example. Interstingly, setting number of folds to 20 gives even lower C (more regularization -> larger bias).\n",
    "\n",
    "Plot gridsearch (cv=5) validated hyperplane:"
   ]
  },
  {
   "cell_type": "code",
   "execution_count": 10,
   "metadata": {},
   "outputs": [
    {
     "data": {
      "image/png": "[encoded data removed]",
      "text/plain": [
       "<matplotlib.figure.Figure at 0x1146aae48>"
      ]
     },
     "metadata": {},
     "output_type": "display_data"
    }
   ],
   "source": [
    "plotBoundary(X_val, y_val, clf, mesh = 200) # plots only validation values"
   ]
  },
  {
   "cell_type": "markdown",
   "metadata": {},
   "source": [
    "It actually looks better than the hyperparameters set using the manual split of the data"
   ]
  },
  {
   "cell_type": "code",
   "execution_count": null,
   "metadata": {
    "collapsed": true
   },
   "outputs": [],
   "source": []
  }
 ],
 "metadata": {
  "kernelspec": {
   "display_name": "Python [default]",
   "language": "python",
   "name": "python3"
  },
  "language_info": {
   "codemirror_mode": {
    "name": "ipython",
    "version": 3
   },
   "file_extension": ".py",
   "mimetype": "text/x-python",
   "name": "python",
   "nbconvert_exporter": "python",
   "pygments_lexer": "ipython3",
   "version": "3.6.0"
  }
 },
 "nbformat": 4,
 "nbformat_minor": 2
}
