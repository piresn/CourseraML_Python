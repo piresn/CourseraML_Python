{
 "cells": [
  {
   "cell_type": "code",
   "execution_count": 1,
   "metadata": {},
   "outputs": [
    {
     "data": {
      "application/javascript": [
       "IPython.notebook.set_autosave_interval(0)"
      ]
     },
     "metadata": {},
     "output_type": "display_data"
    },
    {
     "name": "stdout",
     "output_type": "stream",
     "text": [
      "Autosave disabled\n"
     ]
    }
   ],
   "source": [
    "%matplotlib inline\n",
    "%autosave 0\n",
    "\n",
    "import numpy as np\n",
    "import matplotlib.pyplot as plt\n",
    "from sklearn.linear_model import LogisticRegression\n",
    "from sklearn.preprocessing import PolynomialFeatures\n",
    "from sklearn import metrics"
   ]
  },
  {
   "cell_type": "markdown",
   "metadata": {},
   "source": [
    "# Import data"
   ]
  },
  {
   "cell_type": "code",
   "execution_count": 2,
   "metadata": {},
   "outputs": [
    {
     "name": "stdout",
     "output_type": "stream",
     "text": [
      "(100, 2) (100,)\n"
     ]
    }
   ],
   "source": [
    "ex2data = np.genfromtxt(\"/Users/nunopires/Documents/Coursera/machine-learning-ex2/ex2/ex2data1.txt\",\n",
    "                        delimiter=',')\n",
    "\n",
    "# create X and Y matrices, one observation per row\n",
    "X = ex2data[:,:2]\n",
    "\n",
    "Y = ex2data[:,2]\n",
    "\n",
    "print(X.shape, Y.shape)"
   ]
  },
  {
   "cell_type": "markdown",
   "metadata": {},
   "source": [
    "# Functions"
   ]
  },
  {
   "cell_type": "code",
   "execution_count": 3,
   "metadata": {},
   "outputs": [],
   "source": [
    "def transform(x):\n",
    "    ''' Add polynomial features'''\n",
    "    poly = PolynomialFeatures(2)\n",
    "    return poly.fit_transform(x)\n",
    "\n",
    "def DoNothing(x):\n",
    "    return x\n",
    "\n",
    "def plotBoundary(X, reg, mesh = 200, function = DoNothing):\n",
    "    '''Plots the decision boundary for fitted regression.\n",
    "    If X data was transformed prior to training, specify function here'''\n",
    "    \n",
    "    x = np.linspace(min(X[:,0]), max(X[:,0]), mesh)\n",
    "    y = np.linspace(min(X[:,1]), max(X[:,1]), mesh) \n",
    "    \n",
    "    h = []\n",
    "    for i in x:\n",
    "        for j in y:\n",
    "            h.append(np.array([i,j]))\n",
    "        \n",
    "    Xt = function(h)\n",
    "    \n",
    "    z = reg.predict(Xt).reshape(len(x), len(y))\n",
    "    \n",
    "    # Plot \n",
    "    on = Y == 1 # positives\n",
    "    off = Y == 0 # negatives\n",
    "\n",
    "    bound = plt.contour(x, y, z,\n",
    "                    levels = [0.5],\n",
    "                    colors=('grey'))\n",
    "    plt.clabel(bound, inline=1, fontsize=10)\n",
    "    plt.plot(X[on, 0], X[on, 1], 'o', color = 'blue'); # Y positives\n",
    "    plt.plot(X[off, 0], X[off, 1], 'o', color = 'red'); # Y negatives"
   ]
  },
  {
   "cell_type": "markdown",
   "metadata": {},
   "source": [
    "## Fit logistic regression"
   ]
  },
  {
   "cell_type": "code",
   "execution_count": 4,
   "metadata": {},
   "outputs": [
    {
     "data": {
      "text/plain": [
       "LogisticRegression(C=1.0, class_weight=None, dual=False, fit_intercept=True,\n",
       "          intercept_scaling=1, max_iter=100, multi_class='ovr', n_jobs=1,\n",
       "          penalty='l2', random_state=None, solver='liblinear', tol=0.0001,\n",
       "          verbose=0, warm_start=False)"
      ]
     },
     "execution_count": 4,
     "metadata": {},
     "output_type": "execute_result"
    }
   ],
   "source": [
    "# linear\n",
    "reg = LogisticRegression()\n",
    "reg.fit(X, Y)\n",
    "\n",
    "# transform X (e.g. polynomial)\n",
    "Xt = transform(X)\n",
    "reg2 = LogisticRegression()\n",
    "reg2.fit(Xt, Y)"
   ]
  },
  {
   "cell_type": "markdown",
   "metadata": {},
   "source": [
    "### Scores"
   ]
  },
  {
   "cell_type": "code",
   "execution_count": 5,
   "metadata": {},
   "outputs": [
    {
     "name": "stdout",
     "output_type": "stream",
     "text": [
      "------ reg --------\n",
      "             precision    recall  f1-score   support\n",
      "\n",
      "        0.0       1.00      0.68      0.81        40\n",
      "        1.0       0.82      1.00      0.90        60\n",
      "\n",
      "avg / total       0.89      0.87      0.86       100\n",
      "\n",
      "------ reg2 --------\n",
      "             precision    recall  f1-score   support\n",
      "\n",
      "        0.0       1.00      1.00      1.00        40\n",
      "        1.0       1.00      1.00      1.00        60\n",
      "\n",
      "avg / total       1.00      1.00      1.00       100\n",
      "\n"
     ]
    }
   ],
   "source": [
    "print('------ reg --------')\n",
    "print(metrics.classification_report(Y, reg.predict(X)))\n",
    "print('------ reg2 --------')\n",
    "print(metrics.classification_report(Y, reg2.predict(Xt)))\n"
   ]
  },
  {
   "cell_type": "markdown",
   "metadata": {},
   "source": [
    "## Plot"
   ]
  },
  {
   "cell_type": "code",
   "execution_count": 6,
   "metadata": {},
   "outputs": [
    {
     "data": {
      "image/png": "[encoded data removed]",
      "text/plain": [
       "<matplotlib.figure.Figure at 0x111b01cc0>"
      ]
     },
     "metadata": {},
     "output_type": "display_data"
    }
   ],
   "source": [
    "plotBoundary(X, reg, mesh = 200)"
   ]
  },
  {
   "cell_type": "code",
   "execution_count": 7,
   "metadata": {},
   "outputs": [
    {
     "data": {
      "image/png": "[encoded data removed]",
      "text/plain": [
       "<matplotlib.figure.Figure at 0x11775ba90>"
      ]
     },
     "metadata": {},
     "output_type": "display_data"
    }
   ],
   "source": [
    "plotBoundary(X, reg2, mesh = 200, function = transform)"
   ]
  }
 ],
 "metadata": {
  "kernelspec": {
   "display_name": "Python [default]",
   "language": "python",
   "name": "python3"
  },
  "language_info": {
   "codemirror_mode": {
    "name": "ipython",
    "version": 3
   },
   "file_extension": ".py",
   "mimetype": "text/x-python",
   "name": "python",
   "nbconvert_exporter": "python",
   "pygments_lexer": "ipython3",
   "version": "3.6.0"
  }
 },
 "nbformat": 4,
 "nbformat_minor": 2
}
