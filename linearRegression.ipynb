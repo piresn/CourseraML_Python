{
 "cells": [
  {
   "cell_type": "code",
   "execution_count": 166,
   "metadata": {
    "collapsed": true
   },
   "outputs": [],
   "source": [
    "%matplotlib inline\n",
    "%autosave 0\n",
    "\n",
    "import numpy as np\n",
    "import matplotlib.pyplot as plt"
   ]
  },
  {
   "cell_type": "markdown",
   "metadata": {},
   "source": [
    "## Import data"
   ]
  },
  {
   "cell_type": "code",
   "execution_count": 167,
   "metadata": {
    "collapsed": false
   },
   "outputs": [
    {
     "name": "stdout",
     "output_type": "stream",
     "text": [
      "[[  6.1101  17.592 ]\n",
      " [  5.5277   9.1302]\n",
      " [  8.5186  13.662 ]\n",
      " [  7.0032  11.854 ]\n",
      " [  5.8598   6.8233]]\n",
      "shape =  (97, 2)\n"
     ]
    }
   ],
   "source": [
    "ex1data = np.genfromtxt(\"/Users/nunopires/Documents/Coursera/machine-learning-ex1/ex1/ex1data1.txt\", delimiter=',')\n",
    "\n",
    "print ex1data[:5]\n",
    "print 'shape = ', ex1data.shape"
   ]
  },
  {
   "cell_type": "code",
   "execution_count": 168,
   "metadata": {
    "collapsed": false
   },
   "outputs": [],
   "source": [
    "m = ex1data.shape[0] # number of rows / observations\n",
    "\n",
    "X = ex1data[:, 0].reshape(m, 1) # 2D-matrix with observations as rows, single column\n",
    "Y = ex1data[:, 1].reshape(m, 1)"
   ]
  },
  {
   "cell_type": "markdown",
   "metadata": {},
   "source": [
    "## Plot"
   ]
  },
  {
   "cell_type": "code",
   "execution_count": 169,
   "metadata": {
    "collapsed": false
   },
   "outputs": [
    {
     "data": {
      "image/png": "[encoded data removed]",
      "text/plain": [
       "<matplotlib.figure.Figure at 0x10fb4d7d0>"
      ]
     },
     "metadata": {},
     "output_type": "display_data"
    }
   ],
   "source": [
    "plt.plot(X, Y, 'x');\n",
    "plt.xlabel('Population of City in 10,000s');\n",
    "plt.ylabel('Profit in $10,000s');"
   ]
  },
  {
   "cell_type": "markdown",
   "metadata": {},
   "source": [
    "# Gradient descent\n",
    "Add a column of 1's to X (to account for intercept)"
   ]
  },
  {
   "cell_type": "code",
   "execution_count": 170,
   "metadata": {
    "collapsed": false
   },
   "outputs": [
    {
     "name": "stdout",
     "output_type": "stream",
     "text": [
      "(97, 2)\n"
     ]
    }
   ],
   "source": [
    "X = np.hstack((np.ones((m, 1)), X))\n",
    "print X.shape"
   ]
  },
  {
   "cell_type": "markdown",
   "metadata": {},
   "source": [
    "## Initialize theta etc parameters"
   ]
  },
  {
   "cell_type": "code",
   "execution_count": 171,
   "metadata": {
    "collapsed": false
   },
   "outputs": [],
   "source": [
    "theta = np.zeros((2,1))\n",
    "iterations = 1500;\n",
    "alpha = 0.01;"
   ]
  },
  {
   "cell_type": "markdown",
   "metadata": {},
   "source": [
    "## Compute J function"
   ]
  },
  {
   "cell_type": "code",
   "execution_count": 172,
   "metadata": {
    "collapsed": true
   },
   "outputs": [],
   "source": [
    "def computeJ(X, Y, theta):\n",
    "    m = Y.size\n",
    "    h = np.dot(X, theta) # θᵗX but cannot understand transpose notation, as dim: theta (2,1) and X (97, 2)\n",
    "    J = np.sum((h - Y)**2) / (2*m)\n",
    "    return J\n",
    "    "
   ]
  },
  {
   "cell_type": "code",
   "execution_count": 173,
   "metadata": {
    "collapsed": false
   },
   "outputs": [
    {
     "data": {
      "text/plain": [
       "32.072733877455676"
      ]
     },
     "execution_count": 173,
     "metadata": {},
     "output_type": "execute_result"
    }
   ],
   "source": [
    "computeJ(X, Y, theta)"
   ]
  },
  {
   "cell_type": "markdown",
   "metadata": {},
   "source": [
    "## Gradient descent function"
   ]
  },
  {
   "cell_type": "code",
   "execution_count": 181,
   "metadata": {
    "collapsed": false
   },
   "outputs": [],
   "source": [
    "def gradDesc(theta, alpha, X, Y, num_iters):\n",
    "\n",
    "    m = Y.size\n",
    "    J_history = [None] * num_iters\n",
    "\n",
    "    for n in range(num_iters):\n",
    "        theta = theta - (alpha/m) * np.dot(X.T, (np.dot(X, theta) - Y))\n",
    "        J_history[n] = computeJ(X, Y, theta) # calculate cost at every iteration\n",
    "        \n",
    "    return (J_history, theta)\n",
    "    "
   ]
  },
  {
   "cell_type": "code",
   "execution_count": 237,
   "metadata": {
    "collapsed": false
   },
   "outputs": [],
   "source": [
    "(J_histA, paramA) = gradDesc(theta, 0.0001, X, Y, 1500)\n",
    "(J_histB, paramB) = gradDesc(theta, 0.001, X, Y, 1500)\n",
    "(J_histC, paramC) = gradDesc(theta, 0.01, X, Y, 1500)\n"
   ]
  },
  {
   "cell_type": "markdown",
   "metadata": {},
   "source": [
    "### Plot J as function of iterations"
   ]
  },
  {
   "cell_type": "code",
   "execution_count": 238,
   "metadata": {
    "collapsed": false
   },
   "outputs": [
    {
     "data": {
      "image/png": "[encoded data removed]",
      "text/plain": [
       "<matplotlib.figure.Figure at 0x10f8c42d0>"
      ]
     },
     "metadata": {},
     "output_type": "display_data"
    }
   ],
   "source": [
    "plt.plot(range(len(J_histA)), J_histA);\n",
    "plt.plot(range(len(J_histB)), J_histB, color = 'red');\n",
    "plt.plot(range(len(J_histC)), J_histC, color = 'green');"
   ]
  },
  {
   "cell_type": "code",
   "execution_count": 239,
   "metadata": {
    "collapsed": false
   },
   "outputs": [
    {
     "data": {
      "text/plain": [
       "array([[-3.63029144],\n",
       "       [ 1.16636235]])"
      ]
     },
     "execution_count": 239,
     "metadata": {},
     "output_type": "execute_result"
    }
   ],
   "source": [
    "paramC"
   ]
  },
  {
   "cell_type": "markdown",
   "metadata": {},
   "source": [
    "Learning rate of 0.01 is clearly the best."
   ]
  },
  {
   "cell_type": "markdown",
   "metadata": {
    "collapsed": true
   },
   "source": [
    "## Plot regression line"
   ]
  },
  {
   "cell_type": "code",
   "execution_count": 262,
   "metadata": {
    "collapsed": false
   },
   "outputs": [
    {
     "data": {
      "image/png": "[encoded data removed]",
      "text/plain": [
       "<matplotlib.figure.Figure at 0x11023fd10>"
      ]
     },
     "metadata": {},
     "output_type": "display_data"
    }
   ],
   "source": [
    "predX = range(26)\n",
    "predY = [paramC.item(0) + paramC.item(1) * x for x in predX]\n",
    "\n",
    "plt.plot(X[:,1], Y, 'x');\n",
    "plt.plot(predX, predY, color ='red');\n",
    "plt.xlabel('Population of City in 10,000s');\n",
    "plt.ylabel('Profit in $10,000s');\n"
   ]
  },
  {
   "cell_type": "markdown",
   "metadata": {},
   "source": [
    "Make predictions for different population sizes"
   ]
  },
  {
   "cell_type": "code",
   "execution_count": 284,
   "metadata": {
    "collapsed": false
   },
   "outputs": [
    {
     "name": "stdout",
     "output_type": "stream",
     "text": [
      "A population of 10000 has a profit of -24639.29$\n",
      "A population of 50000 has a profit of 22015.20$\n",
      "A population of 250000 has a profit of 255287.67$\n"
     ]
    }
   ],
   "source": [
    "for pop in [10000, 50000, 250000]:\n",
    "    print 'A population of %d has a profit of %2.2f$' % (pop, np.dot([1, pop/10000.], paramC) * 10000) "
   ]
  },
  {
   "cell_type": "markdown",
   "metadata": {
    "collapsed": true
   },
   "source": [
    "# Extra: optimise J using advanced optimization algorithm"
   ]
  },
  {
   "cell_type": "code",
   "execution_count": null,
   "metadata": {
    "collapsed": true
   },
   "outputs": [],
   "source": [
    "def computeGrad(theta, X, Y):\n",
    "    '''computes gradient of logistic cost function'''\n",
    "    \n",
    "    m = Y.size\n",
    "    return np.dot(X.T,         (np.dot(X, theta) - Y))\n",
    "    return np.dot(X.T, (sigmoid(np.dot(X, theta)) - Y)) / m\n",
    "\n",
    "computeGrad(theta, X, Y) # test"
   ]
  }
 ],
 "metadata": {
  "kernelspec": {
   "display_name": "Python 2",
   "language": "python",
   "name": "python2"
  },
  "language_info": {
   "codemirror_mode": {
    "name": "ipython",
    "version": 2
   },
   "file_extension": ".py",
   "mimetype": "text/x-python",
   "name": "python",
   "nbconvert_exporter": "python",
   "pygments_lexer": "ipython2",
   "version": "2.7.13"
  }
 },
 "nbformat": 4,
 "nbformat_minor": 2
}
