{
 "cells": [
  {
   "cell_type": "code",
   "execution_count": 2,
   "metadata": {},
   "outputs": [
    {
     "data": {
      "application/javascript": [
       "IPython.notebook.set_autosave_interval(0)"
      ]
     },
     "metadata": {},
     "output_type": "display_data"
    },
    {
     "name": "stdout",
     "output_type": "stream",
     "text": [
      "Autosave disabled\n"
     ]
    }
   ],
   "source": [
    "%matplotlib inline\n",
    "%autosave 0\n",
    "\n",
    "import numpy as np\n",
    "from scipy.io import loadmat\n",
    "from scipy.optimize import minimize\n",
    "import matplotlib.pyplot as plt\n",
    "import warnings\n",
    "import time"
   ]
  },
  {
   "cell_type": "code",
   "execution_count": 3,
   "metadata": {},
   "outputs": [
    {
     "name": "stdout",
     "output_type": "stream",
     "text": [
      "dict_keys(['__header__', '__version__', '__globals__', 'X', 'y'])\n"
     ]
    },
    {
     "data": {
      "text/plain": [
       "(5000, 400)"
      ]
     },
     "execution_count": 3,
     "metadata": {},
     "output_type": "execute_result"
    }
   ],
   "source": [
    "data = loadmat(\"ex3data1.mat\",\n",
    "       matlab_compatible = True)\n",
    "\n",
    "print(data.keys())\n",
    "data['X'].shape"
   ]
  },
  {
   "cell_type": "markdown",
   "metadata": {},
   "source": [
    "Matlab version had '0's coded as '10' because Matlab has no index 0. Can relabel 0's as 0's for the Python version."
   ]
  },
  {
   "cell_type": "code",
   "execution_count": 4,
   "metadata": {},
   "outputs": [
    {
     "name": "stdout",
     "output_type": "stream",
     "text": [
      "[  1.   2.   3.   4.   5.   6.   7.   8.   9.  10.]\n",
      "[ 0.  1.  2.  3.  4.  5.  6.  7.  8.  9.]\n"
     ]
    }
   ],
   "source": [
    "print(np.unique(data['y']))\n",
    "data['y'][data['y'] == 10] = 0\n",
    "print(np.unique(data['y']))"
   ]
  },
  {
   "cell_type": "markdown",
   "metadata": {},
   "source": [
    "# Visualize dataset"
   ]
  },
  {
   "cell_type": "code",
   "execution_count": 225,
   "metadata": {},
   "outputs": [
    {
     "data": {
      "image/png": "[encoded data removed]",
      "text/plain": [
       "<matplotlib.figure.Figure at 0x7f86e51ed358>"
      ]
     },
     "metadata": {},
     "output_type": "display_data"
    }
   ],
   "source": [
    "plt.figure(figsize=(10, 2))\n",
    "counter = 1\n",
    "for digit in np.random.choice(range(5000), 20, replace = False):\n",
    "    plt.subplot(2, 10, counter)\n",
    "    sub = data['X'][digit].reshape((20, 20), order = 'F')\n",
    "    plt.imshow(sub, cmap = 'Greys')\n",
    "    plt.xticks(())\n",
    "    plt.yticks(())\n",
    "    counter +=1"
   ]
  },
  {
   "cell_type": "markdown",
   "metadata": {},
   "source": [
    "### All 5000 images superimposed"
   ]
  },
  {
   "cell_type": "code",
   "execution_count": 9,
   "metadata": {},
   "outputs": [
    {
     "data": {
      "text/plain": [
       "<matplotlib.image.AxesImage at 0x7f86e9f9e4a8>"
      ]
     },
     "execution_count": 9,
     "metadata": {},
     "output_type": "execute_result"
    },
    {
     "data": {
      "image/png": "[encoded data removed]",
      "text/plain": [
       "<matplotlib.figure.Figure at 0x7f86ea0b3d30>"
      ]
     },
     "metadata": {},
     "output_type": "display_data"
    }
   ],
   "source": [
    "sub = np.sum(data['X'], axis = 0).reshape((20, 20), order = 'F')\n",
    "plt.imshow(sub, cmap = 'Greys')"
   ]
  },
  {
   "cell_type": "markdown",
   "metadata": {},
   "source": [
    "### All images with a specific digit superimposed"
   ]
  },
  {
   "cell_type": "code",
   "execution_count": 203,
   "metadata": {},
   "outputs": [
    {
     "data": {
      "image/png": "[encoded data removed]",
      "text/plain": [
       "<matplotlib.figure.Figure at 0x7f86e4c31b00>"
      ]
     },
     "metadata": {},
     "output_type": "display_data"
    }
   ],
   "source": [
    "plt.figure(figsize=(8, 3))\n",
    "\n",
    "for digit in range(10):    \n",
    "    plt.subplot(2, 5, digit + 1)\n",
    "    sub1 = data['X'][(data['y'] == digit).flatten(),:]\n",
    "    sub = np.sum(sub1, axis = 0).reshape((20, 20), order = 'F')\n",
    "    plt.imshow(sub, cmap = 'Greys')\n",
    "    plt.xticks(())\n",
    "    plt.yticks(()) "
   ]
  },
  {
   "cell_type": "markdown",
   "metadata": {},
   "source": [
    "Images are quite well alligned and scaled. Surprisingly, the superimposed images do not appear to be very noisy: this could explain why the accuracy of even a simple logistic regression is so high (below)."
   ]
  },
  {
   "cell_type": "markdown",
   "metadata": {},
   "source": [
    "### Crop images\n",
    "There is a lot of white space around the digits: this suggests that the images can be cropped, which may improve the time required to minimize the cost functions.\n",
    "\n",
    "Checked, but cropping images did not really reduce training time... Some digits took quite long to train in the 15x15 images, and the total difference in time to the 20x20 images was relatively small."
   ]
  },
  {
   "cell_type": "code",
   "execution_count": 198,
   "metadata": {},
   "outputs": [
    {
     "data": {
      "text/plain": [
       "<matplotlib.image.AxesImage at 0x7f86e535f438>"
      ]
     },
     "execution_count": 198,
     "metadata": {},
     "output_type": "execute_result"
    },
    {
     "data": {
      "image/png": "[encoded data removed]",
      "text/plain": [
       "<matplotlib.figure.Figure at 0x7f86e4db42b0>"
      ]
     },
     "metadata": {},
     "output_type": "display_data"
    }
   ],
   "source": [
    "# crop images\n",
    "mask = np.arange(400)\n",
    "mask = mask.reshape((20, 20), order = 'F')\n",
    "mask = mask[3:18, 3:18]\n",
    "mask = mask.flatten(order = 'F')\n",
    "\n",
    "masked = data['X'][:,mask]\n",
    "\n",
    "sub1 = masked[(data['y'] == 3).flatten(order = 'F'),:]\n",
    "sub = np.sum(sub1, axis = 0).reshape((15, 15), order = 'F')\n",
    "plt.imshow(sub, cmap = 'Greys')"
   ]
  },
  {
   "cell_type": "markdown",
   "metadata": {},
   "source": [
    "# Cost function"
   ]
  },
  {
   "cell_type": "code",
   "execution_count": 42,
   "metadata": {
    "collapsed": true
   },
   "outputs": [],
   "source": [
    "def sigmoid(z):\n",
    "    '''returns sigmoid'''\n",
    "    return(1 / (1 + np.exp(-z)))"
   ]
  },
  {
   "cell_type": "code",
   "execution_count": 43,
   "metadata": {},
   "outputs": [
    {
     "name": "stdout",
     "output_type": "stream",
     "text": [
      "2.53481939611\n"
     ]
    }
   ],
   "source": [
    "def lrCostFunction(theta, X, y, lamb):\n",
    "    '''Logistic cost function. Returns tuple (J, gradient)'''\n",
    "\n",
    "    J = 0\n",
    "    m = len(y)\n",
    "    \n",
    "    unregJ = np.sum(-y.T * np.log(sigmoid(np.dot(theta.T, X.T))) -\\\n",
    "                 (1-y.T) * np.log(1 - sigmoid(np.dot(theta.T, X.T)))) / m\n",
    "              \n",
    "    reg = (lamb * sum(theta[1:]**2)) / (2 * m)\n",
    "    \n",
    "    J = unregJ + reg\n",
    "    \n",
    "    return(J)\n",
    "\n",
    "# test\n",
    "if True:\n",
    "    theta_t = np.array([-2, -1, 1, 2])\n",
    "    temp = np.array(range(1,16)).reshape(5,3, order = 'F')\n",
    "    X_t = np.hstack((np.ones(5).reshape(5,1), temp/10))\n",
    "    y_t = np.array([1, 0, 1, 0, 1]).reshape(5,1)\n",
    "    lamb_t = 3\n",
    "\n",
    "    print(lrCostFunction(theta_t, X_t, y_t, lamb_t))"
   ]
  },
  {
   "cell_type": "code",
   "execution_count": 44,
   "metadata": {},
   "outputs": [
    {
     "name": "stdout",
     "output_type": "stream",
     "text": [
      "[ 0.14656137 -0.54855841  0.72472227  1.39800296]\n"
     ]
    }
   ],
   "source": [
    "def lrGradient(theta, X, y, lamb):\n",
    "    '''Logistic cost function gradient'''\n",
    "\n",
    "    grad = np.zeros(theta.shape)\n",
    "    m = len(y)\n",
    "    \n",
    "    grad[0] = (np.dot((sigmoid(np.dot(theta.T, X.T)) - y.T), X[:,0].T)) / m\n",
    "    grad[1:] = (np.dot((sigmoid(np.dot(theta.T, X.T)) - y.T), X[:,1:])) / m + lamb*theta[1:] / m\n",
    "    \n",
    "    return(grad)\n",
    "\n",
    "# test\n",
    "if True:\n",
    "    theta_t = np.array([-2, -1, 1, 2])\n",
    "    temp = np.array(range(1,16)).reshape(5,3, order = 'F')\n",
    "    X_t = np.hstack((np.ones(5).reshape(5,1), temp/10))\n",
    "    y_t = np.array([1, 0, 1, 0, 1]).reshape(5,1)\n",
    "    lamb_t = 3\n",
    "\n",
    "    print(lrGradient(theta_t, X_t, y_t, lamb_t))"
   ]
  },
  {
   "cell_type": "code",
   "execution_count": 81,
   "metadata": {
    "collapsed": true
   },
   "outputs": [],
   "source": [
    "def oneVsAll(X, y, num_labels, lamb, min_method = 'TNC', jac = lrGradient, *args):\n",
    "    '''Trains neural network. Using TNC minimization, but Newton-CG is better (but slower)'''\n",
    "        \n",
    "    m = X.shape[0] # size training set\n",
    "    n = X.shape[1] # pixels (400)\n",
    "    all_theta = np.zeros((num_labels, n + 1))\n",
    "    \n",
    "    # add ones to the data X\n",
    "    X = np.hstack((np.ones(m).reshape(m,1), X))\n",
    "        \n",
    "    #Set initial theta\n",
    "    initial_theta = np.zeros(n + 1)#.reshape((n + 1, 1))\n",
    "\n",
    "    \n",
    "    start = time.time()\n",
    "\n",
    "    for row in range(num_labels):\n",
    "        \n",
    "\n",
    "        print('Minimizing row {0} of {1}...'.format(row + 1, num_labels), end=\"\")\n",
    "\n",
    "        theta = minimize(lrCostFunction,\n",
    "                x0 = initial_theta,\n",
    "                args = (X, y == row, lamb),\n",
    "                method = min_method,\n",
    "                jac = jac)\n",
    "        \n",
    "        all_theta[row,:] = theta.x\n",
    "        \n",
    "        print(' Time elapsed: {0:.2f} seconds.\\n   Cost J = {1:.2e}'.format(time.time() - start,\n",
    "                                                       lrCostFunction(theta.x, X, y == row, lamb)))\n",
    "\n",
    "\n",
    "    print('Done.')\n",
    "\n",
    "    return(all_theta)"
   ]
  },
  {
   "cell_type": "code",
   "execution_count": 46,
   "metadata": {
    "collapsed": true
   },
   "outputs": [],
   "source": [
    "def predictOneVsAll(X, all_theta):\n",
    "\n",
    "    m = X.shape[0]\n",
    "    num_labels = all_theta.shape[0]\n",
    "\n",
    "    p = np.zeros(m)\n",
    "    \n",
    "    # add ones to the data X\n",
    "    X = np.hstack((np.ones(m).reshape(m,1), X))\n",
    "\n",
    "    for k in range(m):\n",
    "        pall = sigmoid(np.dot(all_theta, X[k,:].T))\n",
    "        I = np.argmax(pall)\n",
    "        p[k] = I\n",
    "\n",
    "    return(p.reshape(m, 1))"
   ]
  },
  {
   "cell_type": "code",
   "execution_count": 150,
   "metadata": {
    "collapsed": true
   },
   "outputs": [],
   "source": [
    "def stats(predict, correct):\n",
    "    \n",
    "    length = predict.shape[0]    \n",
    "    total_correct = sum(sum(predict == correct))\n",
    "    accuracy = total_correct / length\n",
    "    print('Accuracy = {0:.2f}%'.format(accuracy * 100))\n",
    "    return(accuracy)"
   ]
  },
  {
   "cell_type": "code",
   "execution_count": 49,
   "metadata": {},
   "outputs": [
    {
     "name": "stdout",
     "output_type": "stream",
     "text": [
      "Minimizing row 1 of 10... Time elapsed: 2.20 seconds.\n",
      "   Cost J = -9.05e+00\n",
      "Minimizing row 2 of 10... Time elapsed: 3.09 seconds.\n",
      "   Cost J = -1.13e+01\n",
      "Minimizing row 3 of 10... Time elapsed: 3.95 seconds.\n",
      "   Cost J = -6.46e+00\n",
      "Minimizing row 4 of 10... Time elapsed: 4.69 seconds.\n",
      "   Cost J = -6.71e+00\n",
      "Minimizing row 5 of 10... Time elapsed: 5.44 seconds.\n",
      "   Cost J = -8.05e+00\n",
      "Minimizing row 6 of 10... Time elapsed: 6.09 seconds.\n",
      "   Cost J = -6.33e+00\n",
      "Minimizing row 7 of 10... Time elapsed: 6.86 seconds.\n",
      "   Cost J = -8.47e+00\n",
      "Minimizing row 8 of 10... Time elapsed: 64.79 seconds.\n",
      "   Cost J = -8.74e+00\n",
      "Minimizing row 9 of 10... Time elapsed: 67.47 seconds.\n",
      "   Cost J = -5.62e+00\n",
      "Minimizing row 10 of 10... Time elapsed: 128.59 seconds.\n",
      "   Cost J = -6.75e+00\n",
      "Done.\n",
      "Accuracy = 94.44%\n"
     ]
    }
   ],
   "source": [
    "# set parameters\n",
    "input_layer_size  = 400\n",
    "num_labels = 10\n",
    "\n",
    "with warnings.catch_warnings():\n",
    "    warnings.simplefilter(\"ignore\") # there was a warning when running the minimize function\n",
    "    \n",
    "    all_theta = oneVsAll(data['X'], data['y'],\n",
    "                         num_labels, lamb = 1,\n",
    "                         min_method = 'Newton-CG')\n",
    "\n",
    "    predictions = predictOneVsAll(data['X'], all_theta)\n",
    "    stats(predictions, data['y'])"
   ]
  },
  {
   "cell_type": "markdown",
   "metadata": {},
   "source": [
    "Newton-CG method appears to be the best method to use. Accuracy is 94.44%, while the fmincg algorithm used in Matlab gave an accuracy of 94.9%. Other methods (such as TNC, BFGS) gave accuracies of just over 70%. Keep in mind that these accuracies are being calculated in the training set."
   ]
  },
  {
   "cell_type": "markdown",
   "metadata": {},
   "source": [
    "### Testing the model\n",
    "\n",
    "Split the dataset into train and test dataset."
   ]
  },
  {
   "cell_type": "code",
   "execution_count": 144,
   "metadata": {},
   "outputs": [],
   "source": [
    "# random shuffle of the 5000 data point (index)\n",
    "mix = np.random.choice(range(5000), 5000, replace = False)\n",
    "\n",
    "# pick 4000 data points (using shuffled index) for the train set\n",
    "X_train = data['X'][mix[:4000],:]\n",
    "y_train = data['y'][mix[:4000],:]\n",
    "\n",
    "# pick the remaining data points for the test set\n",
    "X_test = data['X'][mix[4000:],:]\n",
    "y_test = data['y'][mix[4000:],:]"
   ]
  },
  {
   "cell_type": "code",
   "execution_count": 181,
   "metadata": {},
   "outputs": [
    {
     "name": "stdout",
     "output_type": "stream",
     "text": [
      "Minimizing row 1 of 10... Time elapsed: 2.26 seconds.\n",
      "   Cost J = -8.61e+00\n",
      "Minimizing row 2 of 10... Time elapsed: 3.71 seconds.\n",
      "   Cost J = -1.11e+01\n",
      "Minimizing row 3 of 10... Time elapsed: 5.03 seconds.\n",
      "   Cost J = -6.45e+00\n",
      "Minimizing row 4 of 10... Time elapsed: 79.56 seconds.\n",
      "   Cost J = -6.55e+00\n",
      "Minimizing row 5 of 10... Time elapsed: 81.63 seconds.\n",
      "   Cost J = -8.43e+00\n",
      "Minimizing row 6 of 10... Time elapsed: 82.81 seconds.\n",
      "   Cost J = -6.38e+00\n",
      "Minimizing row 7 of 10... Time elapsed: 84.26 seconds.\n",
      "   Cost J = -8.05e+00\n",
      "Minimizing row 8 of 10... Time elapsed: 85.64 seconds.\n",
      "   Cost J = -8.42e+00\n",
      "Minimizing row 9 of 10... Time elapsed: 87.53 seconds.\n",
      "   Cost J = -5.65e+00\n",
      "Minimizing row 10 of 10... Time elapsed: 203.29 seconds.\n",
      "   Cost J = -6.88e+00\n",
      "Done.\n",
      "Accuracy = 89.50%\n"
     ]
    }
   ],
   "source": [
    "# set parameters\n",
    "input_layer_size  = 400\n",
    "num_labels = 10\n",
    "\n",
    "with warnings.catch_warnings():\n",
    "    warnings.simplefilter(\"ignore\") # there was a warning when running the minimize function\n",
    "    \n",
    "    all_theta = oneVsAll(X_train, y_train,\n",
    "                         num_labels, lamb = 1,\n",
    "                         min_method = 'Newton-CG')\n",
    "\n",
    "    predictions = predictOneVsAll(X_test, all_theta)\n",
    "\n",
    "    \n",
    "    stats(predictions, y_test)"
   ]
  },
  {
   "cell_type": "code",
   "execution_count": 168,
   "metadata": {},
   "outputs": [
    {
     "name": "stdout",
     "output_type": "stream",
     "text": [
      "\n",
      "***** testing lambda 0*****\n",
      "Minimizing row 1 of 10... Time elapsed: 122.05 seconds.\n",
      "   Cost J = nan\n",
      "Minimizing row 2 of 10... Time elapsed: 123.11 seconds.\n",
      "   Cost J = -1.03e+01\n",
      "Minimizing row 3 of 10... Time elapsed: 263.36 seconds.\n",
      "   Cost J = nan\n",
      "Minimizing row 4 of 10... Time elapsed: 714.90 seconds.\n",
      "   Cost J = nan\n",
      "Minimizing row 5 of 10... Time elapsed: 837.15 seconds.\n",
      "   Cost J = nan\n",
      "Minimizing row 6 of 10... Time elapsed: 1280.39 seconds.\n",
      "   Cost J = nan\n",
      "Minimizing row 7 of 10... Time elapsed: 1399.41 seconds.\n",
      "   Cost J = nan\n",
      "Minimizing row 8 of 10... Time elapsed: 1526.17 seconds.\n",
      "   Cost J = nan\n",
      "Minimizing row 9 of 10... Time elapsed: 1670.87 seconds.\n",
      "   Cost J = -1.54e+01\n",
      "Minimizing row 10 of 10... Time elapsed: 1688.55 seconds.\n",
      "   Cost J = -2.34e+01\n",
      "Done.\n",
      "Accuracy = 84.70%\n",
      "\n",
      "***** testing lambda 0.00411522633744856*****\n",
      "Minimizing row 1 of 10... Time elapsed: 5.48 seconds.\n",
      "   Cost J = nan\n",
      "Minimizing row 2 of 10... Time elapsed: 11.71 seconds.\n",
      "   Cost J = -3.67e+01\n",
      "Minimizing row 3 of 10... Time elapsed: 257.22 seconds.\n",
      "   Cost J = nan\n",
      "Minimizing row 4 of 10... Time elapsed: 296.99 seconds.\n",
      "   Cost J = -1.43e+01\n",
      "Minimizing row 5 of 10... Time elapsed: 504.03 seconds.\n",
      "   Cost J = nan\n",
      "Minimizing row 6 of 10... Time elapsed: 666.38 seconds.\n",
      "   Cost J = -1.61e+01\n",
      "Minimizing row 7 of 10... Time elapsed: 982.66 seconds.\n",
      "   Cost J = nan\n",
      "Minimizing row 8 of 10... Time elapsed: 1321.07 seconds.\n",
      "   Cost J = nan\n",
      "Minimizing row 9 of 10... Time elapsed: 1362.43 seconds.\n",
      "   Cost J = -1.08e+01\n",
      "Minimizing row 10 of 10... Time elapsed: 1395.17 seconds.\n",
      "   Cost J = -1.93e+01\n",
      "Done.\n",
      "Accuracy = 87.70%\n",
      "\n",
      "***** testing lambda 0.012345679012345678*****\n",
      "Minimizing row 1 of 10... Time elapsed: 6.89 seconds.\n",
      "   Cost J = -2.14e+01\n",
      "Minimizing row 2 of 10... Time elapsed: 10.19 seconds.\n",
      "   Cost J = -2.96e+01\n",
      "Minimizing row 3 of 10... Time elapsed: 214.34 seconds.\n",
      "   Cost J = nan\n",
      "Minimizing row 4 of 10... Time elapsed: 239.64 seconds.\n",
      "   Cost J = -1.15e+01\n",
      "Minimizing row 5 of 10... Time elapsed: 271.05 seconds.\n",
      "   Cost J = -2.31e+01\n",
      "Minimizing row 6 of 10... Time elapsed: 330.28 seconds.\n",
      "   Cost J = -1.26e+01\n",
      "Minimizing row 7 of 10... Time elapsed: 388.07 seconds.\n",
      "   Cost J = -2.46e+01\n",
      "Minimizing row 8 of 10... Time elapsed: 650.53 seconds.\n",
      "   Cost J = nan\n",
      "Minimizing row 9 of 10... Time elapsed: 712.59 seconds.\n",
      "   Cost J = -9.43e+00\n",
      "Minimizing row 10 of 10... Time elapsed: 770.20 seconds.\n",
      "   Cost J = -1.47e+01\n",
      "Done.\n",
      "Accuracy = 87.80%\n",
      "\n",
      "***** testing lambda 0.037037037037037035*****\n",
      "Minimizing row 1 of 10... Time elapsed: 3.74 seconds.\n",
      "   Cost J = -1.71e+01\n",
      "Minimizing row 2 of 10... Time elapsed: 6.86 seconds.\n",
      "   Cost J = -2.32e+01\n",
      "Minimizing row 3 of 10... Time elapsed: 35.18 seconds.\n",
      "   Cost J = -1.17e+01\n",
      "Minimizing row 4 of 10... Time elapsed: 174.41 seconds.\n",
      "   Cost J = -9.61e+00\n",
      "Minimizing row 5 of 10... Time elapsed: 180.78 seconds.\n",
      "   Cost J = -1.66e+01\n",
      "Minimizing row 6 of 10... Time elapsed: 310.74 seconds.\n",
      "   Cost J = -1.02e+01\n",
      "Minimizing row 7 of 10... Time elapsed: 453.72 seconds.\n",
      "   Cost J = -1.84e+01\n",
      "Minimizing row 8 of 10... Time elapsed: 599.80 seconds.\n",
      "   Cost J = -1.79e+01\n",
      "Minimizing row 9 of 10... Time elapsed: 663.06 seconds.\n",
      "   Cost J = -8.18e+00\n",
      "Minimizing row 10 of 10... Time elapsed: 868.64 seconds.\n",
      "   Cost J = -1.17e+01\n",
      "Done.\n",
      "Accuracy = 88.60%\n",
      "\n",
      "***** testing lambda 0.1111111111111111*****\n",
      "Minimizing row 1 of 10... Time elapsed: 4.53 seconds.\n",
      "   Cost J = -1.34e+01\n",
      "Minimizing row 2 of 10... Time elapsed: 8.68 seconds.\n",
      "   Cost J = -1.79e+01\n",
      "Minimizing row 3 of 10... Time elapsed: 11.88 seconds.\n",
      "   Cost J = -9.37e+00\n",
      "Minimizing row 4 of 10... Time elapsed: 61.09 seconds.\n",
      "   Cost J = -8.32e+00\n",
      "Minimizing row 5 of 10... Time elapsed: 68.24 seconds.\n",
      "   Cost J = -1.25e+01\n",
      "Minimizing row 6 of 10... Time elapsed: 325.65 seconds.\n",
      "   Cost J = -8.60e+00\n",
      "Minimizing row 7 of 10... Time elapsed: 328.16 seconds.\n",
      "   Cost J = -1.35e+01\n",
      "Minimizing row 8 of 10... Time elapsed: 604.37 seconds.\n",
      "   Cost J = -1.34e+01\n",
      "Minimizing row 9 of 10... Time elapsed: 828.18 seconds.\n",
      "   Cost J = -7.15e+00\n",
      "Minimizing row 10 of 10... Time elapsed: 857.80 seconds.\n",
      "   Cost J = -9.65e+00\n",
      "Done.\n",
      "Accuracy = 89.20%\n",
      "\n",
      "***** testing lambda 0.3333333333333333*****\n",
      "Minimizing row 1 of 10... Time elapsed: 2.00 seconds.\n",
      "   Cost J = -1.06e+01\n",
      "Minimizing row 2 of 10... Time elapsed: 4.03 seconds.\n",
      "   Cost J = -1.39e+01\n",
      "Minimizing row 3 of 10... Time elapsed: 122.61 seconds.\n",
      "   Cost J = -7.70e+00\n",
      "Minimizing row 4 of 10... Time elapsed: 162.50 seconds.\n",
      "   Cost J = -7.37e+00\n",
      "Minimizing row 5 of 10... Time elapsed: 164.37 seconds.\n",
      "   Cost J = -1.01e+01\n",
      "Minimizing row 6 of 10... Time elapsed: 342.24 seconds.\n",
      "   Cost J = -7.37e+00\n",
      "Minimizing row 7 of 10... Time elapsed: 417.66 seconds.\n",
      "   Cost J = -1.01e+01\n",
      "Minimizing row 8 of 10... Time elapsed: 530.47 seconds.\n",
      "   Cost J = -1.05e+01\n",
      "Minimizing row 9 of 10... Time elapsed: 532.87 seconds.\n",
      "   Cost J = -6.35e+00\n",
      "Minimizing row 10 of 10... Time elapsed: 545.17 seconds.\n",
      "   Cost J = -8.11e+00\n",
      "Done.\n",
      "Accuracy = 89.40%\n",
      "\n",
      "***** testing lambda 1*****\n",
      "Minimizing row 1 of 10... Time elapsed: 1.97 seconds.\n",
      "   Cost J = -8.61e+00\n",
      "Minimizing row 2 of 10... Time elapsed: 3.34 seconds.\n",
      "   Cost J = -1.11e+01\n",
      "Minimizing row 3 of 10... Time elapsed: 4.61 seconds.\n",
      "   Cost J = -6.45e+00\n",
      "Minimizing row 4 of 10... Time elapsed: 73.81 seconds.\n",
      "   Cost J = -6.55e+00\n",
      "Minimizing row 5 of 10... Time elapsed: 75.78 seconds.\n",
      "   Cost J = -8.43e+00\n",
      "Minimizing row 6 of 10... Time elapsed: 76.87 seconds.\n",
      "   Cost J = -6.38e+00\n",
      "Minimizing row 7 of 10... Time elapsed: 78.20 seconds.\n",
      "   Cost J = -8.05e+00\n",
      "Minimizing row 8 of 10... Time elapsed: 79.49 seconds.\n",
      "   Cost J = -8.42e+00\n",
      "Minimizing row 9 of 10... Time elapsed: 81.22 seconds.\n",
      "   Cost J = -5.65e+00\n",
      "Minimizing row 10 of 10... Time elapsed: 195.52 seconds.\n",
      "   Cost J = -6.88e+00\n",
      "Done.\n",
      "Accuracy = 89.50%\n",
      "\n",
      "***** testing lambda 3*****\n",
      "Minimizing row 1 of 10... Time elapsed: 1.38 seconds.\n",
      "   Cost J = -7.08e+00\n",
      "Minimizing row 2 of 10... Time elapsed: 2.08 seconds.\n",
      "   Cost J = -8.94e+00\n",
      "Minimizing row 3 of 10... Time elapsed: 3.07 seconds.\n",
      "   Cost J = -5.48e+00\n",
      "Minimizing row 4 of 10... Time elapsed: 4.00 seconds.\n",
      "   Cost J = -5.75e+00\n",
      "Minimizing row 5 of 10... Time elapsed: 5.35 seconds.\n",
      "   Cost J = -7.02e+00\n",
      "Minimizing row 6 of 10... Time elapsed: 7.40 seconds.\n",
      "   Cost J = -5.44e+00\n",
      "Minimizing row 7 of 10... Time elapsed: 7.93 seconds.\n",
      "   Cost J = -6.60e+00\n",
      "Minimizing row 8 of 10... Time elapsed: 9.18 seconds.\n",
      "   Cost J = -6.83e+00\n",
      "Minimizing row 9 of 10... Time elapsed: 11.14 seconds.\n",
      "   Cost J = -4.99e+00\n",
      "Minimizing row 10 of 10... Time elapsed: 123.43 seconds.\n",
      "   Cost J = -5.84e+00\n",
      "Done.\n",
      "Accuracy = 89.10%\n",
      "\n",
      "***** testing lambda 9*****\n",
      "Minimizing row 1 of 10... Time elapsed: 1.17 seconds.\n",
      "   Cost J = -5.84e+00\n",
      "Minimizing row 2 of 10... Time elapsed: 1.59 seconds.\n",
      "   Cost J = -7.27e+00\n",
      "Minimizing row 3 of 10... Time elapsed: 2.06 seconds.\n",
      "   Cost J = -4.58e+00\n",
      "Minimizing row 4 of 10... Time elapsed: 3.28 seconds.\n",
      "   Cost J = -4.94e+00\n",
      "Minimizing row 5 of 10... Time elapsed: 3.83 seconds.\n",
      "   Cost J = -5.71e+00\n",
      "Minimizing row 6 of 10... Time elapsed: 4.91 seconds.\n",
      "   Cost J = -4.55e+00\n",
      "Minimizing row 7 of 10... Time elapsed: 6.06 seconds.\n",
      "   Cost J = -5.48e+00\n",
      "Minimizing row 8 of 10... Time elapsed: 7.10 seconds.\n",
      "   Cost J = -5.55e+00\n",
      "Minimizing row 9 of 10... Time elapsed: 8.90 seconds.\n",
      "   Cost J = -4.30e+00\n",
      "Minimizing row 10 of 10... Time elapsed: 9.38 seconds.\n",
      "   Cost J = -4.70e+00\n",
      "Done.\n",
      "Accuracy = 88.80%\n",
      "\n",
      "***** testing lambda 27*****\n",
      "Minimizing row 1 of 10... Time elapsed: 0.41 seconds.\n",
      "   Cost J = -4.45e+00\n",
      "Minimizing row 2 of 10... Time elapsed: 0.73 seconds.\n",
      "   Cost J = -5.68e+00\n",
      "Minimizing row 3 of 10... Time elapsed: 1.19 seconds.\n",
      "   Cost J = -3.80e+00\n",
      "Minimizing row 4 of 10... Time elapsed: 2.23 seconds.\n",
      "   Cost J = -4.14e+00\n",
      "Minimizing row 5 of 10... Time elapsed: 2.70 seconds.\n",
      "   Cost J = -4.55e+00\n",
      "Minimizing row 6 of 10... Time elapsed: 3.94 seconds.\n",
      "   Cost J = -3.72e+00\n",
      "Minimizing row 7 of 10... Time elapsed: 4.30 seconds.\n",
      "   Cost J = -4.43e+00\n",
      "Minimizing row 8 of 10... Time elapsed: 5.14 seconds.\n",
      "   Cost J = -4.50e+00\n",
      "Minimizing row 9 of 10... Time elapsed: 6.43 seconds.\n",
      "   Cost J = -3.63e+00\n",
      "Minimizing row 10 of 10... Time elapsed: 7.65 seconds.\n",
      "   Cost J = -3.97e+00\n",
      "Done.\n",
      "Accuracy = 88.20%\n",
      "\n",
      "***** testing lambda 81*****\n"
     ]
    },
    {
     "name": "stdout",
     "output_type": "stream",
     "text": [
      "Minimizing row 1 of 10... Time elapsed: 0.83 seconds.\n",
      "   Cost J = -3.96e+00\n",
      "Minimizing row 2 of 10... Time elapsed: 1.11 seconds.\n",
      "   Cost J = -4.36e+00\n",
      "Minimizing row 3 of 10... Time elapsed: 2.03 seconds.\n",
      "   Cost J = -3.27e+00\n",
      "Minimizing row 4 of 10... Time elapsed: 2.88 seconds.\n",
      "   Cost J = -3.40e+00\n",
      "Minimizing row 5 of 10... Time elapsed: 3.31 seconds.\n",
      "   Cost J = -3.53e+00\n",
      "Minimizing row 6 of 10... Time elapsed: 3.79 seconds.\n",
      "   Cost J = -2.99e+00\n",
      "Minimizing row 7 of 10... Time elapsed: 4.14 seconds.\n",
      "   Cost J = -3.62e+00\n",
      "Minimizing row 8 of 10... Time elapsed: 4.53 seconds.\n",
      "   Cost J = -3.63e+00\n",
      "Minimizing row 9 of 10... Time elapsed: 5.69 seconds.\n",
      "   Cost J = -3.03e+00\n",
      "Minimizing row 10 of 10... Time elapsed: 6.56 seconds.\n",
      "   Cost J = -3.20e+00\n",
      "Done.\n",
      "Accuracy = 86.80%\n"
     ]
    }
   ],
   "source": [
    "if False: # takes a very long time to run\n",
    "    # set parameters\n",
    "    input_layer_size  = 400\n",
    "    num_labels = 10# try different regularization parameters\n",
    "\n",
    "    accu = []\n",
    "\n",
    "    with warnings.catch_warnings():\n",
    "        warnings.simplefilter(\"ignore\") # there was a warning when running the minimize function\n",
    "\n",
    "        for lamb in [0] + [3**x for x in range(-5, 5)]:\n",
    "            print('\\n***** testing lambda {0}*****'.format(lamb))\n",
    "\n",
    "            all_theta = oneVsAll(X_train, y_train,\n",
    "                                 num_labels, lamb = lamb,\n",
    "                                 min_method = 'Newton-CG')\n",
    "\n",
    "            predictions = predictOneVsAll(X_test, all_theta)\n",
    "            accu.append(stats(predictions, y_test))"
   ]
  },
  {
   "cell_type": "markdown",
   "metadata": {},
   "source": [
    "Took long time to run. Results (accu) were:\n",
    "[0.84699999999999998,\n",
    " 0.877,\n",
    " 0.878,\n",
    " 0.88600000000000001,\n",
    " 0.89200000000000002,\n",
    " 0.89400000000000002,\n",
    " 0.89500000000000002,\n",
    " 0.89100000000000001,\n",
    " 0.88800000000000001,\n",
    " 0.88200000000000001,\n",
    " 0.86799999999999999]\n",
    " \n",
    " So the best lambda parameter was 1 -> 89.5% accuracy"
   ]
  },
  {
   "cell_type": "code",
   "execution_count": 173,
   "metadata": {},
   "outputs": [
    {
     "data": {
      "image/png": "[encoded data removed]",
      "text/plain": [
       "<matplotlib.figure.Figure at 0x7f86e53c49e8>"
      ]
     },
     "metadata": {},
     "output_type": "display_data"
    }
   ],
   "source": [
    "plt.plot([0] + [3**x for x in range(-5, 5)], accu)\n",
    "plt.xscale('log')"
   ]
  },
  {
   "cell_type": "markdown",
   "metadata": {},
   "source": [
    "# Visualize predictions"
   ]
  },
  {
   "cell_type": "code",
   "execution_count": 283,
   "metadata": {},
   "outputs": [
    {
     "data": {
      "image/png": "[encoded data removed]",
      "text/plain": [
       "<matplotlib.figure.Figure at 0x7f86e45a61d0>"
      ]
     },
     "metadata": {},
     "output_type": "display_data"
    }
   ],
   "source": [
    "ix, temp = np.where(predictions == y_test)\n",
    "\n",
    "plt.figure(figsize=(10, 2.5))\n",
    "counter = 1\n",
    "for samp in np.random.choice(ix, 20, replace = False):\n",
    "    plt.subplot(2, 10, counter)\n",
    "    sub = X_test[samp].reshape((20, 20), order = 'F')\n",
    "    plt.imshow(sub, cmap = 'Greys')\n",
    "    plt.title(int(predictions[samp]), color = 'darkred')\n",
    "    plt.xticks(())\n",
    "    plt.yticks(())\n",
    "    counter +=1"
   ]
  }
 ],
 "metadata": {
  "kernelspec": {
   "display_name": "Python 3",
   "language": "python",
   "name": "python3"
  },
  "language_info": {
   "codemirror_mode": {
    "name": "ipython",
    "version": 3
   },
   "file_extension": ".py",
   "mimetype": "text/x-python",
   "name": "python",
   "nbconvert_exporter": "python",
   "pygments_lexer": "ipython3",
   "version": "3.6.1"
  }
 },
 "nbformat": 4,
 "nbformat_minor": 2
}
