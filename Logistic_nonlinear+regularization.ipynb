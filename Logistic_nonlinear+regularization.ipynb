{
 "cells": [
  {
   "cell_type": "code",
   "execution_count": 1,
   "metadata": {},
   "outputs": [
    {
     "data": {
      "application/javascript": [
       "IPython.notebook.set_autosave_interval(0)"
      ]
     },
     "metadata": {},
     "output_type": "display_data"
    },
    {
     "name": "stdout",
     "output_type": "stream",
     "text": [
      "Autosave disabled\n"
     ]
    }
   ],
   "source": [
    "%matplotlib inline\n",
    "%autosave 0\n",
    "\n",
    "import numpy as np\n",
    "import matplotlib.pyplot as plt\n",
    "from scipy.optimize import minimize\n",
    "import math"
   ]
  },
  {
   "cell_type": "markdown",
   "metadata": {},
   "source": [
    "# Import data"
   ]
  },
  {
   "cell_type": "code",
   "execution_count": 2,
   "metadata": {},
   "outputs": [
    {
     "name": "stdout",
     "output_type": "stream",
     "text": [
      "[[ 34.62365962  78.02469282   0.        ]\n",
      " [ 30.28671077  43.89499752   0.        ]\n",
      " [ 35.84740877  72.90219803   0.        ]\n",
      " [ 60.18259939  86.3085521    1.        ]\n",
      " [ 79.03273605  75.34437644   1.        ]]\n"
     ]
    }
   ],
   "source": [
    "ex2data = np.genfromtxt(\"/Users/nunopires/Documents/Coursera/machine-learning-ex2/ex2/ex2data1.txt\", delimiter=',')\n",
    "\n",
    "print ex2data[:5]"
   ]
  },
  {
   "cell_type": "code",
   "execution_count": 3,
   "metadata": {},
   "outputs": [
    {
     "name": "stdout",
     "output_type": "stream",
     "text": [
      "(100, 3) (100, 1)\n"
     ]
    }
   ],
   "source": [
    "# create X and Y matrices, one observation per row\n",
    "X = ex2data[:,:2]\n",
    "Y = ex2data[:,2]\n",
    "Y = Y.reshape(Y.size, 1)\n",
    "\n",
    "# add column with ones (intercept) to X\n",
    "X = np.hstack((np.ones((Y.size, 1)), X))\n",
    "\n",
    "print X.shape, Y.shape"
   ]
  },
  {
   "cell_type": "markdown",
   "metadata": {},
   "source": [
    "# Plot data"
   ]
  },
  {
   "cell_type": "code",
   "execution_count": 4,
   "metadata": {},
   "outputs": [
    {
     "data": {
      "image/png": "[encoded data removed]",
      "text/plain": [
       "<matplotlib.figure.Figure at 0x10f423e50>"
      ]
     },
     "metadata": {},
     "output_type": "display_data"
    }
   ],
   "source": [
    "on = Y[:,0] == 1\n",
    "off = Y[:,0] == 0\n",
    "\n",
    "plt.plot(X[on, 1], X[on, 2], 'o', color = 'blue'); # Y positives\n",
    "plt.plot(X[off, 1], X[off, 2], 'o', color = 'red'); # Y negatives"
   ]
  },
  {
   "cell_type": "markdown",
   "metadata": {},
   "source": [
    "## Calculate sigmoid function"
   ]
  },
  {
   "cell_type": "code",
   "execution_count": 5,
   "metadata": {},
   "outputs": [],
   "source": [
    "def sigmoid(x):\n",
    "    '''Compute the sigmoid function '''\n",
    "    return 1 / (1 + np.exp(-x)) # use numpy.exp, because math.exp only works with scalars"
   ]
  },
  {
   "cell_type": "markdown",
   "metadata": {},
   "source": [
    "## Calculate cost J"
   ]
  },
  {
   "cell_type": "code",
   "execution_count": 6,
   "metadata": {},
   "outputs": [],
   "source": [
    "def computeJ(theta, X, Y, lamb):\n",
    "    '''Compute the cost function.\n",
    "    input theta should have ndim = 1 to be able to be used in minimise function'''\n",
    "    \n",
    "    theta = theta.reshape(X.shape[1],1)\n",
    "    lamb = float(lamb)\n",
    "\n",
    "    m = Y.size # number observations\n",
    "    h = sigmoid(np.dot(X, theta))\n",
    "    J = np.sum((-Y * np.log(h)) - ((1. - Y) * np.log(1. - h))) / m\n",
    "    \n",
    "    reg = (lamb/(2*m)) * np.sum((theta[1:])**2)\n",
    "    \n",
    "    return J + reg\n",
    "\n",
    "# test\n",
    "# computeJ(theta, Xt, Y, 1)"
   ]
  },
  {
   "cell_type": "markdown",
   "metadata": {},
   "source": [
    "## Transform features"
   ]
  },
  {
   "cell_type": "code",
   "execution_count": 7,
   "metadata": {
    "collapsed": true
   },
   "outputs": [],
   "source": [
    "def transformFeat(x):\n",
    "    '''transform x1 and x2 variables from a matrix n x 3\n",
    "    into x1 ,x2, x1^2 and x2^2 from matrix n x 5'''\n",
    "    \n",
    "    if X.shape[1] !=3:\n",
    "        raise ValueError('transformFeat only works with matrices with n x 3')\n",
    "        \n",
    "    return np.hstack((x , x[:,1:2]**2, -x[:,2:3]**2))"
   ]
  },
  {
   "cell_type": "markdown",
   "metadata": {},
   "source": [
    "## Scale features\n",
    "\n",
    "Scale features: this function should be applied in the same way to future data: the mean and sd values should be calculated only once"
   ]
  },
  {
   "cell_type": "code",
   "execution_count": 8,
   "metadata": {},
   "outputs": [],
   "source": [
    "def scaling_params(x):\n",
    "    x = x[:,1:]\n",
    "    sc_mean = x.mean(axis = 0)\n",
    "    sc_std = x.std(axis = 0)\n",
    "    \n",
    "    return sc_mean, sc_std\n",
    "\n",
    "def scale(x, mean, std):\n",
    "    '''scale [,1:] variables from a matrix, except the first (intercept) column'''\n",
    "    \n",
    "    x = x[:,1:]\n",
    "    out = (x - sc_mean) / sc_std\n",
    "    out = np.hstack((np.ones((x.shape[0], 1)), out))\n",
    "    \n",
    "    return out"
   ]
  },
  {
   "cell_type": "markdown",
   "metadata": {},
   "source": [
    "## Compare J minimization algorithms\n",
    "Octave's fminunc function was used in Coursera. The alternative in Python is [Scipy's optimize.minimize](https://docs.scipy.org/doc/scipy/reference/generated/scipy.optimize.minimize.html#scipy.optimize.minimize) family.\n",
    "\n",
    "BFGS would be the closest to fminunc (? not clear), but the implementation is not working either with a custom gradient (does not work at all, problem seems to be matrix multiplications and/or very extreme logit values) or without (thetas are way too high).\n",
    "\n",
    "Best option appears to be the simplest, the Nelder-Mead method(Simplex algorithm), which is anyway a derivative-free method).\n",
    "\n",
    "* Expected theta values for simple logit regression (no feature transformation) are:\n",
    "[-25.161, 0.206, 0.201]"
   ]
  },
  {
   "cell_type": "markdown",
   "metadata": {},
   "source": [
    "## Set initial theta and select scaling"
   ]
  },
  {
   "cell_type": "code",
   "execution_count": 9,
   "metadata": {
    "collapsed": true
   },
   "outputs": [],
   "source": [
    "# initialize theta\n",
    "#init_theta = np.zeros((5))\n",
    "init_theta = np.array([10, 0, 0, 0, 0])\n",
    "\n",
    "# use scaling?\n",
    "scaling = 'off'\n"
   ]
  },
  {
   "cell_type": "code",
   "execution_count": 10,
   "metadata": {},
   "outputs": [
    {
     "name": "stderr",
     "output_type": "stream",
     "text": [
      "/Users/nunopires/miniconda3/envs/py27/lib/python2.7/site-packages/ipykernel/__main__.py:10: RuntimeWarning: divide by zero encountered in log\n",
      "/Users/nunopires/miniconda3/envs/py27/lib/python2.7/site-packages/ipykernel/__main__.py:10: RuntimeWarning: invalid value encountered in multiply\n",
      "/Users/nunopires/miniconda3/envs/py27/lib/python2.7/site-packages/ipykernel/__main__.py:3: RuntimeWarning: overflow encountered in exp\n",
      "  app.launch_new_instance()\n"
     ]
    },
    {
     "name": "stdout",
     "output_type": "stream",
     "text": [
      "--- Nelder-Mead estim =  [ -1.30834799e+02   1.78534365e+00   1.30938826e+00  -9.22700198e-03\n",
      "   5.25990970e-03] J =  0.0652659102195\n",
      "--- BFGS estim =  [   9.76589581  -12.18044995  -12.78637659 -704.04524542  757.40396118] J =  nan\n",
      "--- Powell estim =  [ 210.06253249  212.21017485  212.21017485  212.21017485  212.21017485] J =  nan\n",
      "--- CG estim =  [   9.76589581  -12.18044995  -12.78637659 -704.04524542  757.40396118] J =  nan\n",
      "--- L-BFGS-B estim =  [ 10.   0.   0.   0.   0.] J =  nan\n",
      "--- TNC estim =  [  4.85716711e+00  -1.90975860e-01  -1.53507060e-01   2.21907754e-03\n",
      "  -1.84164314e-03] J =  0.413973368818\n",
      "--- SLSQP estim =  [ nan  nan  nan  nan  nan] J =  nan\n"
     ]
    }
   ],
   "source": [
    "# transform X\n",
    "Xt = transformFeat(X)\n",
    "\n",
    "if scaling == 'on':\n",
    "    \n",
    "    # scale X\n",
    "    #   --- get scaling params\n",
    "    sc_mean, sc_std = scaling_params(Xt)\n",
    "    #   --- apply scaling\n",
    "    Xt = scale(Xt, sc_mean, sc_std)\n",
    "\n",
    "\n",
    "for alg in ['Nelder-Mead', 'BFGS', 'Powell', 'CG', 'L-BFGS-B', 'TNC', 'SLSQP']:\n",
    "    \n",
    "    temp = minimize(computeJ,\n",
    "                    x0 = init_theta,\n",
    "                    args = (Xt, Y, 1),\n",
    "                    method=alg)\n",
    "    \n",
    "    print '---', alg, 'estim = ', temp.x, 'J = ', temp.fun"
   ]
  },
  {
   "cell_type": "markdown",
   "metadata": {},
   "source": [
    "Algorithms are extremely sensitive to the initial theta: when setting it to zeros, predictions are way off. Setting it to an intercept of 10 fixed the problem."
   ]
  },
  {
   "cell_type": "markdown",
   "metadata": {},
   "source": [
    "## Get estimates for theta"
   ]
  },
  {
   "cell_type": "code",
   "execution_count": 27,
   "metadata": {},
   "outputs": [
    {
     "name": "stdout",
     "output_type": "stream",
     "text": [
      "[ -1.30834799e+02   1.78534365e+00   1.30938826e+00  -9.22700198e-03\n",
      "   5.25990970e-03]\n"
     ]
    },
    {
     "name": "stderr",
     "output_type": "stream",
     "text": [
      "/Users/nunopires/miniconda3/envs/py27/lib/python2.7/site-packages/ipykernel/__main__.py:10: RuntimeWarning: divide by zero encountered in log\n",
      "/Users/nunopires/miniconda3/envs/py27/lib/python2.7/site-packages/ipykernel/__main__.py:10: RuntimeWarning: invalid value encountered in multiply\n"
     ]
    }
   ],
   "source": [
    "estim = minimize(computeJ,\n",
    "                 x0 = init_theta,\n",
    "                 args = (Xt, Y, 1),\n",
    "                 method='Nelder-Mead').x\n",
    "print estim"
   ]
  },
  {
   "cell_type": "markdown",
   "metadata": {},
   "source": [
    "### Make predictions\n",
    "This gives the probability of a positive result"
   ]
  },
  {
   "cell_type": "code",
   "execution_count": 28,
   "metadata": {},
   "outputs": [
    {
     "data": {
      "text/plain": [
       "5.699703558152181e-24"
      ]
     },
     "execution_count": 28,
     "metadata": {},
     "output_type": "execute_result"
    }
   ],
   "source": [
    "def passing(x1, x2, thetas, scaling):\n",
    "    \n",
    "    grade = np.array([1, x1, x2])\n",
    "    X = transformFeat(grade.reshape(1,3))\n",
    "\n",
    "    if scaling == 'on':\n",
    "        X = scale(X, sc_mean, sc_std)\n",
    "\n",
    "    return sigmoid(np.dot(X, thetas)).item()\n",
    "\n",
    "passing(5, 75, estim, 'off')"
   ]
  },
  {
   "cell_type": "markdown",
   "metadata": {},
   "source": [
    "# Plot decision boundary\n",
    "\n",
    "\n",
    "Using *np.meshgrid* would be an easier way to make the grid calculations for the contour plot. However, it was not working properly with the matrix input: so instead made the grid search manually using for loops"
   ]
  },
  {
   "cell_type": "code",
   "execution_count": 29,
   "metadata": {},
   "outputs": [
    {
     "data": {
      "image/png": "[encoded data removed]",
      "text/plain": [
       "<matplotlib.figure.Figure at 0x111f84690>"
      ]
     },
     "metadata": {},
     "output_type": "display_data"
    }
   ],
   "source": [
    "# create search grid\n",
    "grain = 50\n",
    "gridX1 = np.linspace(min(X[:,1]), max(X[:,1]), grain)\n",
    "gridX2 = np.linspace(min(X[:,2]), max(X[:,2]), grain)\n",
    "\n",
    "# calculate regression for all grid points\n",
    "z = np.zeros((grain, grain))\n",
    "\n",
    "for idx1, val1 in enumerate(gridX1):\n",
    "    for idx2, val2 in enumerate(gridX2):\n",
    "        z[idx1, idx2] = passing(val1, val2, estim, scaling = 'off')\n",
    "        \n",
    "# Plot \n",
    "on = Y[:,0] == 1 # positives\n",
    "off = Y[:,0] == 0 # negatives\n",
    "\n",
    "h = plt.contour(gridX1, gridX2, z,\n",
    "                levels = [0.5],\n",
    "                colors=('grey'))\n",
    "plt.clabel(h, inline=1, fontsize=10)\n",
    "plt.plot(X[on, 1], X[on, 2], 'o', color = 'blue'); # Y positives\n",
    "plt.plot(X[off, 1], X[off, 2], 'o', color = 'red'); # Y negatives"
   ]
  },
  {
   "cell_type": "markdown",
   "metadata": {},
   "source": [
    "# Calculate accuracy"
   ]
  },
  {
   "cell_type": "code",
   "execution_count": 30,
   "metadata": {
    "collapsed": true
   },
   "outputs": [],
   "source": [
    "def predict(X, estim):\n",
    "    p = sigmoid(np.dot(X, estim)) > 0.5\n",
    "    return p * 1"
   ]
  },
  {
   "cell_type": "code",
   "execution_count": 31,
   "metadata": {
    "scrolled": true
   },
   "outputs": [
    {
     "name": "stdout",
     "output_type": "stream",
     "text": [
      "Accuracy = 1.00\n"
     ]
    }
   ],
   "source": [
    "print 'Accuracy = %2.2f' % np.mean((predict(Xt, estim) == Y.T))\n",
    "# or (np.sum((p == Y.T)) / float(Y.size))"
   ]
  },
  {
   "cell_type": "markdown",
   "metadata": {},
   "source": [
    "Feature transformation clearly improved the regression. However, the minimization algorithms were extremely sensitive to the initial theta values provided. This could not be fixed by scaling the features. A manual intercept value for the initial theta had to be provided to achieve a low cost J."
   ]
  }
 ],
 "metadata": {
  "kernelspec": {
   "display_name": "Python [conda env:py27]",
   "language": "python",
   "name": "conda-env-py27-py"
  },
  "language_info": {
   "codemirror_mode": {
    "name": "ipython",
    "version": 2
   },
   "file_extension": ".py",
   "mimetype": "text/x-python",
   "name": "python",
   "nbconvert_exporter": "python",
   "pygments_lexer": "ipython2",
   "version": "2.7.13"
  }
 },
 "nbformat": 4,
 "nbformat_minor": 2
}
