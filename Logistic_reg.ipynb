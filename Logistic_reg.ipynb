{
 "cells": [
  {
   "cell_type": "code",
   "execution_count": 1,
   "metadata": {
    "collapsed": false
   },
   "outputs": [
    {
     "data": {
      "application/javascript": [
       "IPython.notebook.set_autosave_interval(0)"
      ]
     },
     "metadata": {},
     "output_type": "display_data"
    },
    {
     "name": "stdout",
     "output_type": "stream",
     "text": [
      "Autosave disabled\n"
     ]
    }
   ],
   "source": [
    "%matplotlib inline\n",
    "%autosave 0\n",
    "\n",
    "\n",
    "import numpy as np\n",
    "import matplotlib.pyplot as plt\n",
    "from scipy.optimize import minimize\n",
    "import math"
   ]
  },
  {
   "cell_type": "code",
   "execution_count": 2,
   "metadata": {
    "collapsed": true
   },
   "outputs": [],
   "source": [
    "from scipy.optimize import fmin_l_bfgs_b"
   ]
  },
  {
   "cell_type": "markdown",
   "metadata": {},
   "source": [
    "# Import data"
   ]
  },
  {
   "cell_type": "code",
   "execution_count": 3,
   "metadata": {
    "collapsed": false
   },
   "outputs": [
    {
     "name": "stdout",
     "output_type": "stream",
     "text": [
      "[[ 34.62365962  78.02469282   0.        ]\n",
      " [ 30.28671077  43.89499752   0.        ]\n",
      " [ 35.84740877  72.90219803   0.        ]\n",
      " [ 60.18259939  86.3085521    1.        ]\n",
      " [ 79.03273605  75.34437644   1.        ]]\n",
      "shape =  (100, 3)\n"
     ]
    }
   ],
   "source": [
    "ex2data = np.genfromtxt(\"/Users/nunopires/Documents/Coursera/machine-learning-ex2/ex2/ex2data1.txt\", delimiter=',')\n",
    "\n",
    "print ex2data[:5]\n",
    "print 'shape = ', ex2data.shape"
   ]
  },
  {
   "cell_type": "code",
   "execution_count": 4,
   "metadata": {
    "collapsed": false
   },
   "outputs": [
    {
     "name": "stdout",
     "output_type": "stream",
     "text": [
      "(100, 3) (100, 1)\n"
     ]
    }
   ],
   "source": [
    "# create X and Y matrices, one observation per row\n",
    "X = ex2data[:,:2]\n",
    "Y = ex2data[:,2]\n",
    "Y = Y.reshape(Y.size, 1)\n",
    "\n",
    "# add column with ones (intercept) to X\n",
    "X = X = np.hstack((np.ones((Y.size, 1)), X))\n",
    "\n",
    "print X.shape, Y.shape"
   ]
  },
  {
   "cell_type": "markdown",
   "metadata": {},
   "source": [
    "# Plot data"
   ]
  },
  {
   "cell_type": "code",
   "execution_count": 5,
   "metadata": {
    "collapsed": false
   },
   "outputs": [
    {
     "data": {
      "image/png": "[encoded data removed]",
      "text/plain": [
       "<matplotlib.figure.Figure at 0x1100661d0>"
      ]
     },
     "metadata": {},
     "output_type": "display_data"
    }
   ],
   "source": [
    "on = Y[:,0] == 1\n",
    "off = Y[:,0] == 0\n",
    "\n",
    "plt.plot(X[on, 1], X[on, 2], 'o', color = 'blue'); # Y positives\n",
    "plt.plot(X[off, 1], X[off, 2], 'o', color = 'red'); # Y negatives"
   ]
  },
  {
   "cell_type": "markdown",
   "metadata": {},
   "source": [
    "## Calculate sigmoid function"
   ]
  },
  {
   "cell_type": "code",
   "execution_count": 6,
   "metadata": {
    "collapsed": false
   },
   "outputs": [
    {
     "name": "stdout",
     "output_type": "stream",
     "text": [
      "[[-10  -5   0]\n",
      " [  1  10 100]] \n",
      "[[  4.53978687e-05   6.69285092e-03   5.00000000e-01]\n",
      " [  7.31058579e-01   9.99954602e-01   1.00000000e+00]]\n"
     ]
    }
   ],
   "source": [
    "def sigmoid(x):\n",
    "    '''Compute the sigmoid function '''\n",
    "    return 1 / (1 + np.exp(-x)) # use numpy.exp, because math.exp only works with scalars\n",
    "\n",
    "# test\n",
    "a = np.array([[-10, -5, 0], [1, 10, 100]])\n",
    "print a, '\\n', sigmoid(a)"
   ]
  },
  {
   "cell_type": "markdown",
   "metadata": {},
   "source": [
    "## Calculate cost J"
   ]
  },
  {
   "cell_type": "code",
   "execution_count": 7,
   "metadata": {
    "collapsed": false
   },
   "outputs": [],
   "source": [
    "def computeJ(theta, X, Y):\n",
    "    '''Compute the cost function.\n",
    "    input theta should have ndim = 1 to be able to be used in minimise function'''\n",
    "    \n",
    "    theta = theta.reshape(3,1)\n",
    "\n",
    "    m = Y.size # number observations\n",
    "    h = sigmoid(np.dot(X, theta))\n",
    "    J = np.sum((-Y * np.log(h)) - ((1. - Y) * np.log(1. - h))) / m\n",
    "    \n",
    "    return J"
   ]
  },
  {
   "cell_type": "code",
   "execution_count": 8,
   "metadata": {
    "collapsed": false
   },
   "outputs": [
    {
     "data": {
      "text/plain": [
       "0.69314718055994529"
      ]
     },
     "execution_count": 8,
     "metadata": {},
     "output_type": "execute_result"
    }
   ],
   "source": [
    "# initialize theta\n",
    "theta = np.zeros((3))\n",
    "computeJ(theta, X, Y)"
   ]
  },
  {
   "cell_type": "markdown",
   "metadata": {},
   "source": [
    "## Calculate gradient\n",
    "\n",
    "This is not required, since the Nelder-Mead method will be used as minimization algorithm"
   ]
  },
  {
   "cell_type": "code",
   "execution_count": 9,
   "metadata": {
    "collapsed": false
   },
   "outputs": [
    {
     "data": {
      "text/plain": [
       "array([ -0.1       , -12.00921659, -11.26284221])"
      ]
     },
     "execution_count": 9,
     "metadata": {},
     "output_type": "execute_result"
    }
   ],
   "source": [
    "def computeGrad(theta, X, Y):\n",
    "    '''computes gradient of logistic cost function'''\n",
    "    \n",
    "    theta = theta.reshape(3,1)\n",
    "    \n",
    "    m = Y.size\n",
    "    grad = np.dot(X.T, (sigmoid(np.dot(X, theta)) - Y)) / m\n",
    "    return grad.flatten()\n",
    "\n",
    "computeGrad(theta, X, Y) # test"
   ]
  },
  {
   "cell_type": "markdown",
   "metadata": {},
   "source": [
    "## Optimize J\n",
    "Octave's fminunc function was used in Coursera. The alternative in Python is [Scipy's optimize.minimize](https://docs.scipy.org/doc/scipy/reference/generated/scipy.optimize.minimize.html#scipy.optimize.minimize) family.\n",
    "\n",
    "BFGS would be the closest to fminunc (? not clear), but the implementation is not working either with a custom gradient (does not work at all, problem seems to be matrix multiplications and/or very extreme logit values) or without (thetas are way too high).\n",
    "\n",
    "Best option appears to be the simplest, the Nelder-Mead method(Simplex algorithm), which is anyway a derivative-free method).\n",
    "\n",
    "* Expected theta values are [-25.161, 0.206, 0.201]\n"
   ]
  },
  {
   "cell_type": "code",
   "execution_count": 10,
   "metadata": {
    "collapsed": false
   },
   "outputs": [
    {
     "name": "stdout",
     "output_type": "stream",
     "text": [
      "--- Nelder-Mead estim =  [-25.16130062   0.20623142   0.20147143] J =  0.20349770159\n",
      "--- BFGS estim =  [   6.28160425  754.37095625  707.48666377] J =  nan\n",
      "--- Powell estim =  [ 210.02592519  212.21017485  212.21017485] J =  nan\n",
      "--- CG estim =  [   6.28160425  754.37095625  707.48666377] J =  nan\n",
      "--- L-BFGS-B estim =  [ 0.  0.  0.] J =  nan\n",
      "--- TNC estim =  [-25.17512062   0.20636045   0.20156312] J =  0.203497742492\n",
      "--- SLSQP estim =  [ nan  nan  nan] J =  nan\n"
     ]
    },
    {
     "name": "stderr",
     "output_type": "stream",
     "text": [
      "/Users/nunopires/anaconda2/lib/python2.7/site-packages/ipykernel/__main__.py:9: RuntimeWarning: divide by zero encountered in log\n",
      "/Users/nunopires/anaconda2/lib/python2.7/site-packages/ipykernel/__main__.py:9: RuntimeWarning: invalid value encountered in multiply\n"
     ]
    }
   ],
   "source": [
    "for alg in ['Nelder-Mead', 'BFGS', 'Powell', 'CG', 'L-BFGS-B', 'TNC', 'SLSQP']:\n",
    "    temp = minimize(computeJ, x0 = theta, args = (X, Y), method=alg)\n",
    "    print '---', alg, 'estim = ', temp.x, 'J = ', temp.fun"
   ]
  },
  {
   "cell_type": "code",
   "execution_count": 11,
   "metadata": {
    "collapsed": false
   },
   "outputs": [
    {
     "name": "stdout",
     "output_type": "stream",
     "text": [
      "[-25.16130062   0.20623142   0.20147143]\n"
     ]
    }
   ],
   "source": [
    "estim = minimize(computeJ, x0 = theta, args = (X, Y), method='Nelder-Mead').x\n",
    "print estim"
   ]
  },
  {
   "cell_type": "markdown",
   "metadata": {},
   "source": [
    "### Make predictions\n",
    "This gives the probability of a positive result"
   ]
  },
  {
   "cell_type": "code",
   "execution_count": 12,
   "metadata": {
    "collapsed": false
   },
   "outputs": [
    {
     "data": {
      "text/plain": [
       "0.77629159041124107"
      ]
     },
     "execution_count": 12,
     "metadata": {},
     "output_type": "execute_result"
    }
   ],
   "source": [
    "grades = np.array([1, 45, 85])\n",
    "sigmoid(np.dot(grades, estim))"
   ]
  },
  {
   "cell_type": "markdown",
   "metadata": {},
   "source": [
    "# Plot decision boundary\n",
    "simple, linear decision boundary"
   ]
  },
  {
   "cell_type": "code",
   "execution_count": 13,
   "metadata": {
    "collapsed": false
   },
   "outputs": [
    {
     "data": {
      "text/plain": [
       "[<matplotlib.lines.Line2D at 0x112aa1e90>]"
      ]
     },
     "execution_count": 13,
     "metadata": {},
     "output_type": "execute_result"
    },
    {
     "data": {
      "image/png": "[encoded data removed]",
      "text/plain": [
       "<matplotlib.figure.Figure at 0x11272add0>"
      ]
     },
     "metadata": {},
     "output_type": "display_data"
    }
   ],
   "source": [
    "on = Y[:,0] == 1\n",
    "off = Y[:,0] == 0\n",
    "\n",
    "plt.plot(X[on, 1], X[on, 2], 'o', color = 'blue'); # Y positives\n",
    "plt.plot(X[off, 1], X[off, 2], 'o', color = 'red'); # Y negatives\n",
    "\n",
    "X_pred = [min(X[:,1]), max(X[:,1])]\n",
    "# boundary occurs when sigmoid = 0.5, <=> h = 0\n",
    "# <=> Th0 + Th1.X + Th2.Y = 0\n",
    "# This means that Y = (-Th0 - Th1.X) / Th2\n",
    "\n",
    "Y_pred = [(-estim.item(0) - estim.item(1)*x) / estim.item(2) for x in X_pred]\n",
    "plt.plot(X_pred, Y_pred, color = 'grey')"
   ]
  },
  {
   "cell_type": "markdown",
   "metadata": {},
   "source": [
    "# Calculate accuracy"
   ]
  },
  {
   "cell_type": "code",
   "execution_count": 14,
   "metadata": {
    "collapsed": true
   },
   "outputs": [],
   "source": [
    "def predict(X, estim):\n",
    "    p = sigmoid(np.dot(X, estim)) > 0.5\n",
    "    return p * 1"
   ]
  },
  {
   "cell_type": "code",
   "execution_count": 15,
   "metadata": {
    "collapsed": false
   },
   "outputs": [],
   "source": [
    "p = predict(X, estim)"
   ]
  },
  {
   "cell_type": "code",
   "execution_count": 16,
   "metadata": {
    "collapsed": false
   },
   "outputs": [
    {
     "name": "stdout",
     "output_type": "stream",
     "text": [
      "Accuracy = 0.89\n"
     ]
    }
   ],
   "source": [
    "print 'Accuracy = %2.2f' % np.mean((p == Y.T)) # or (np.sum((p == Y.T)) / float(Y.size))"
   ]
  },
  {
   "cell_type": "code",
   "execution_count": null,
   "metadata": {
    "collapsed": true
   },
   "outputs": [],
   "source": []
  }
 ],
 "metadata": {
  "kernelspec": {
   "display_name": "Python 2",
   "language": "python",
   "name": "python2"
  },
  "language_info": {
   "codemirror_mode": {
    "name": "ipython",
    "version": 2
   },
   "file_extension": ".py",
   "mimetype": "text/x-python",
   "name": "python",
   "nbconvert_exporter": "python",
   "pygments_lexer": "ipython2",
   "version": "2.7.13"
  }
 },
 "nbformat": 4,
 "nbformat_minor": 2
}
