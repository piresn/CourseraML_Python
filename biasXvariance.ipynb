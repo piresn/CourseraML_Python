{
 "cells": [
  {
   "cell_type": "code",
   "execution_count": 1,
   "metadata": {},
   "outputs": [
    {
     "data": {
      "application/javascript": [
       "IPython.notebook.set_autosave_interval(0)"
      ]
     },
     "metadata": {},
     "output_type": "display_data"
    },
    {
     "name": "stdout",
     "output_type": "stream",
     "text": [
      "Autosave disabled\n"
     ]
    }
   ],
   "source": [
    "%matplotlib inline\n",
    "%autosave 0\n",
    "\n",
    "import numpy as np\n",
    "from scipy.io import loadmat\n",
    "import matplotlib.pyplot as plt\n",
    "from scipy.optimize import minimize"
   ]
  },
  {
   "cell_type": "markdown",
   "metadata": {},
   "source": [
    "# Import data"
   ]
  },
  {
   "cell_type": "code",
   "execution_count": 2,
   "metadata": {},
   "outputs": [
    {
     "name": "stdout",
     "output_type": "stream",
     "text": [
      "dict_keys(['__header__', '__version__', '__globals__', 'X', 'y', 'Xtest', 'ytest', 'Xval', 'yval'])\n",
      "X (12, 1)\n",
      "Xval (21, 1)\n",
      "Xtest (21, 1)\n"
     ]
    }
   ],
   "source": [
    "#ex5data = np.genfromtxt(\"/Users/nunopires/Documents/Coursera/machine-learning-ex5/ex5/ex5data1.txt\", delimiter=',')\n",
    "#print(ex5data[:5])\n",
    "data = loadmat(\"/Users/nunopires/Documents/Coursera/machine-learning-ex5/ex5/ex5data1.mat\",\n",
    "       matlab_compatible = True)\n",
    "\n",
    "print(data.keys())\n",
    "\n",
    "for item in ['X', 'Xval', 'Xtest']:\n",
    "    print(item, data[item].shape)\n",
    "\n",
    "X = data['X']\n",
    "y = data['y']\n",
    "Xtest = data['Xtest']\n",
    "ytest = data['ytest']\n",
    "Xval = data['Xval']\n",
    "yval = data['yval']"
   ]
  },
  {
   "cell_type": "markdown",
   "metadata": {},
   "source": [
    "It's weird that they choose a training set with 12 data points, while cross validation and test sets have 21. Usually one would choose a 60:20:20 ratio..."
   ]
  },
  {
   "cell_type": "markdown",
   "metadata": {},
   "source": [
    "### Plot"
   ]
  },
  {
   "cell_type": "code",
   "execution_count": 3,
   "metadata": {},
   "outputs": [
    {
     "data": {
      "image/png": "[encoded data removed]",
      "text/plain": [
       "<matplotlib.figure.Figure at 0x10e5cf208>"
      ]
     },
     "metadata": {},
     "output_type": "display_data"
    }
   ],
   "source": [
    "plt.plot(X, y, 'x', label='train');\n",
    "plt.plot(Xval, yval, 'x', color = 'green', marker = 'v', label='validation');\n",
    "plt.plot(Xtest, ytest, 'x', color = 'red', marker = '.', label='test');\n",
    "plt.legend();"
   ]
  },
  {
   "cell_type": "markdown",
   "metadata": {},
   "source": [
    "## Functions"
   ]
  },
  {
   "cell_type": "code",
   "execution_count": 4,
   "metadata": {
    "collapsed": true
   },
   "outputs": [],
   "source": [
    "def addIntercept(x):\n",
    "    '''adds column of ones to start of array'''\n",
    "    \n",
    "    return np.column_stack((np.ones((x.shape[0])), x))"
   ]
  },
  {
   "cell_type": "code",
   "execution_count": 5,
   "metadata": {
    "collapsed": true
   },
   "outputs": [],
   "source": [
    "def computeJ(theta, X, Y, lamb):\n",
    "    '''Compute cost for regularised linear regression'''\n",
    "    \n",
    "    theta = theta.reshape(X.shape[1],1)\n",
    "    \n",
    "    m = X.shape[0]\n",
    "    \n",
    "    h = np.dot(X, theta)\n",
    "    J = np.sum((h - Y)**2) / (2*m)\n",
    "    reg = (lamb/(2*m)) * np.sum((theta[1:])**2)\n",
    "    \n",
    "    return J + reg\n",
    "\n",
    "# # test\n",
    "# init_theta = np.ones((2))\n",
    "# computeJ(init_theta, Xint, y, 1)"
   ]
  },
  {
   "cell_type": "code",
   "execution_count": 6,
   "metadata": {
    "collapsed": true
   },
   "outputs": [],
   "source": [
    "def trainLinearReg(X, y, lamb, method = 'BFGS'):\n",
    "    '''estimate theta given train data and regularization parameter lambda'''\n",
    "\n",
    "    # define initial theta\n",
    "    init_theta = np.ones(X.shape[1])\n",
    "    \n",
    "    # minimize cost function\n",
    "    theta = minimize(computeJ,\n",
    "             x0 = init_theta,\n",
    "             args = (X, y, lamb),\n",
    "             method = method).x\n",
    "\n",
    "    return theta"
   ]
  },
  {
   "cell_type": "code",
   "execution_count": 7,
   "metadata": {
    "collapsed": true
   },
   "outputs": [],
   "source": [
    "def polyFeatures(X, degree):\n",
    "    '''returns a matrix where X is raised to the power of 1:degree'''\n",
    "    \n",
    "    x_poly = np.zeros((X.shape[0], degree))\n",
    "    \n",
    "    for i in range(degree):\n",
    "        x_poly[:,i] = (X**(i+1)).T\n",
    "        \n",
    "    return x_poly    "
   ]
  },
  {
   "cell_type": "code",
   "execution_count": 8,
   "metadata": {
    "collapsed": true
   },
   "outputs": [],
   "source": [
    "def prepFeatures(x, degree):\n",
    "    '''adds polynomial features, scales and intercept to matrix of features'''\n",
    "\n",
    "    x = polyFeatures(x, degree)\n",
    "    \n",
    "    mu = np.zeros(x.shape[1])\n",
    "    std = np.ones(x.shape[1])\n",
    "    \n",
    "    for i in range(1, x.shape[1]):\n",
    "        mu[i] = np.mean(x[:,i])\n",
    "        std[i] = np.std(x[:,i])\n",
    "\n",
    "    mu = mu.reshape((-1, x.shape[1]))\n",
    "    std = std.reshape((-1, x.shape[1]))\n",
    "    \n",
    "    x = (x - mu) / std\n",
    "    \n",
    "    x = addIntercept(x)\n",
    "        \n",
    "    return degree, mu, std, x"
   ]
  },
  {
   "cell_type": "code",
   "execution_count": 9,
   "metadata": {
    "collapsed": true
   },
   "outputs": [],
   "source": [
    "def predict(X, thetas):\n",
    "    '''makes predictions for unidimensional X vector'''\n",
    "    \n",
    "    X = X.reshape((X.shape[0],-1))\n",
    "    X = addIntercept(X)\n",
    "    \n",
    "    thetas = thetas.reshape((thetas.shape[0],-1))\n",
    "    Y = np.dot(X, thetas)\n",
    "    \n",
    "    return Y"
   ]
  },
  {
   "cell_type": "code",
   "execution_count": 10,
   "metadata": {
    "collapsed": true
   },
   "outputs": [],
   "source": [
    "def LearningCurve(X, y, Xval, yval, lamb):\n",
    "    '''Estimate theta for various training set sizes and calculate the respective \n",
    "    costs for the training and cross validation sets'''\n",
    "    \n",
    "    m = X.shape[0] # number of train observations -> number of iterations\n",
    "\n",
    "    error_train = np.zeros((m, 1))\n",
    "    error_val = np.zeros((m, 1))\n",
    "\n",
    "    for i in range(1, m):\n",
    "\n",
    "        temp_theta = trainLinearReg(X[:i,:], y[:i,:], lamb)\n",
    "        temp_theta = temp_theta.flatten()\n",
    "\n",
    "        # calculate costs using estimated theta (and without regularization)\n",
    "        error_train[i] = computeJ(temp_theta, X[:i,:], y[:i,:], lamb = 0)\n",
    "        error_val[i] = computeJ(temp_theta, Xval, yval, lamb = 0)\n",
    "        \n",
    "    return error_train, error_val"
   ]
  },
  {
   "cell_type": "code",
   "execution_count": 11,
   "metadata": {
    "collapsed": true
   },
   "outputs": [],
   "source": [
    "def LambdaCurve(X, y, Xval, yval, grid):\n",
    "    '''Estimate theta for various training set sizes and calculate the respective \n",
    "    costs for the training and cross validation sets'''\n",
    "    \n",
    "    m = grid.size # number lambda to test -> number of iterations\n",
    "\n",
    "    error_train = np.zeros((m, 1))\n",
    "    error_val = np.zeros((m, 1))\n",
    "\n",
    "    for idx, val in enumerate(grid):\n",
    "\n",
    "        temp_theta = trainLinearReg(X, y, val)\n",
    "        temp_theta = temp_theta.flatten()\n",
    "\n",
    "        # calculate costs using estimated theta (and without regularization)\n",
    "        error_train[idx] = computeJ(temp_theta, X, y, lamb = 0)\n",
    "        error_val[idx] = computeJ(temp_theta, Xval, yval, lamb = 0)\n",
    "        \n",
    "    return error_train, error_val"
   ]
  },
  {
   "cell_type": "markdown",
   "metadata": {},
   "source": [
    "## Transform features and train model"
   ]
  },
  {
   "cell_type": "code",
   "execution_count": 12,
   "metadata": {
    "collapsed": true
   },
   "outputs": [],
   "source": [
    "# choose polynomial degree [1:...]\n",
    "degree, mu, std, Xint = prepFeatures(X, degree = 5)\n",
    "\n",
    "# Train model\n",
    "theta = trainLinearReg(Xint, y, lamb =  0)"
   ]
  },
  {
   "cell_type": "markdown",
   "metadata": {},
   "source": [
    "### Plot regression line"
   ]
  },
  {
   "cell_type": "code",
   "execution_count": 13,
   "metadata": {},
   "outputs": [
    {
     "data": {
      "image/png": "[encoded data removed]",
      "text/plain": [
       "<matplotlib.figure.Figure at 0x10e742cf8>"
      ]
     },
     "metadata": {},
     "output_type": "display_data"
    }
   ],
   "source": [
    "predX = np.linspace(min(X[:,0])*1.2, max(X[:,0])*1.2, 50).T\n",
    "temp = polyFeatures(predX, degree)\n",
    "temp = (temp - mu) / std\n",
    "predY = predict(temp, theta)\n",
    "\n",
    "# Plot\n",
    "plt.plot(X, y, 'x', label='train');\n",
    "plt.plot(predX, predY, color ='red');"
   ]
  },
  {
   "cell_type": "markdown",
   "metadata": {},
   "source": [
    "## Learning curves"
   ]
  },
  {
   "cell_type": "code",
   "execution_count": 14,
   "metadata": {},
   "outputs": [
    {
     "data": {
      "image/png": "[encoded data removed]",
      "text/plain": [
       "<matplotlib.figure.Figure at 0x10e5e49e8>"
      ]
     },
     "metadata": {},
     "output_type": "display_data"
    }
   ],
   "source": [
    "degree = 8\n",
    "\n",
    "foo, foo, foo, Xint = prepFeatures(X, degree = degree)\n",
    "foo, foo, foo, Xvalint = prepFeatures(Xval, degree = degree)\n",
    "\n",
    "error_train, error_val = LearningCurve(Xint, y, Xvalint, yval, lamb = 3)\n",
    "\n",
    "# Plot\n",
    "plt.plot(error_train[1:], color = 'blue', label='train')\n",
    "plt.plot(error_val[1:], color = 'green', label='validation')\n",
    "plt.legend();\n",
    "plt.title('Cost as a function of training set size for linear regression')\n",
    "plt.xlabel('Training set size')\n",
    "plt.ylabel('Cost');"
   ]
  },
  {
   "cell_type": "markdown",
   "metadata": {},
   "source": [
    "Example from course tutorial is a little misleading because they artificially set y-axis to 0-150. This makes the difference between validation and training curves more obvious."
   ]
  },
  {
   "cell_type": "markdown",
   "metadata": {
    "collapsed": true
   },
   "source": [
    "## Test regularization (lambda parameter)"
   ]
  },
  {
   "cell_type": "code",
   "execution_count": 15,
   "metadata": {},
   "outputs": [
    {
     "data": {
      "image/png": "[encoded data removed]",
      "text/plain": [
       "<matplotlib.figure.Figure at 0x10e7427b8>"
      ]
     },
     "metadata": {},
     "output_type": "display_data"
    }
   ],
   "source": [
    "grid = np.array([0, 0.001, 0.003, 0.01, 0.03, 0.1, 0.3, 1, 3, 10])\n",
    "degree = 8\n",
    "\n",
    "foo, foo, foo, Xint = prepFeatures(X, degree = degree)\n",
    "foo, foo, foo, Xvalint = prepFeatures(Xval, degree = degree)\n",
    "\n",
    "error_train, error_val = LambdaCurve(Xint, y, Xvalint, yval, grid)\n",
    "\n",
    "# Plot\n",
    "plt.figure()\n",
    "plt.xscale('log')\n",
    "plt.plot(grid, error_train, color = 'blue', label='train')\n",
    "plt.plot(grid, error_val, color = 'green', label='validation')\n",
    "plt.legend();\n",
    "plt.title('Cost as a function of lambda regularization')\n",
    "plt.xlabel('Lambda')\n",
    "plt.ylabel('Cost');"
   ]
  },
  {
   "cell_type": "markdown",
   "metadata": {},
   "source": [
    "Lambda value of 3 is the best for 8th degree polynomial"
   ]
  },
  {
   "cell_type": "markdown",
   "metadata": {},
   "source": [
    "# Calculate cost on test set"
   ]
  },
  {
   "cell_type": "code",
   "execution_count": 16,
   "metadata": {},
   "outputs": [
    {
     "name": "stdout",
     "output_type": "stream",
     "text": [
      "Nelder-Mead 18.287\n",
      "BFGS 3.172\n",
      "Powell 3.1698\n",
      "TNC 3.1606\n"
     ]
    }
   ],
   "source": [
    "foo, foo, foo, Xint = prepFeatures(Xtest, degree = 8)\n",
    "\n",
    "for i in ['Nelder-Mead', 'BFGS', 'Powell', 'TNC']:\n",
    "    theta = trainLinearReg(Xint, ytest, lamb = 3, method = i)\n",
    "    print(i, round(computeJ(theta, Xint, ytest, lamb = 0), 4))"
   ]
  },
  {
   "cell_type": "markdown",
   "metadata": {},
   "source": [
    "Result from tutorial (using fmincg algorithm) was 3.8599.\n",
    "\n",
    "Although these methods are derivative-less, they appear quite powerful (with the notable exception of the Nelder-Mead algorithm, which drastically failed to identify a decent minumum."
   ]
  }
 ],
 "metadata": {
  "kernelspec": {
   "display_name": "Python [default]",
   "language": "python",
   "name": "python3"
  },
  "language_info": {
   "codemirror_mode": {
    "name": "ipython",
    "version": 3
   },
   "file_extension": ".py",
   "mimetype": "text/x-python",
   "name": "python",
   "nbconvert_exporter": "python",
   "pygments_lexer": "ipython3",
   "version": "3.6.0"
  }
 },
 "nbformat": 4,
 "nbformat_minor": 2
}
