{
 "cells": [
  {
   "cell_type": "code",
   "execution_count": 1,
   "metadata": {},
   "outputs": [
    {
     "data": {
      "application/javascript": [
       "IPython.notebook.set_autosave_interval(0)"
      ]
     },
     "metadata": {},
     "output_type": "display_data"
    },
    {
     "name": "stdout",
     "output_type": "stream",
     "text": [
      "Autosave disabled\n"
     ]
    }
   ],
   "source": [
    "%matplotlib inline\n",
    "%autosave 0\n",
    "\n",
    "import math\n",
    "import numpy as np\n",
    "from scipy.io import loadmat\n",
    "import matplotlib.pyplot as plt\n",
    "import math"
   ]
  },
  {
   "cell_type": "markdown",
   "metadata": {},
   "source": [
    "# Import data 1"
   ]
  },
  {
   "cell_type": "code",
   "execution_count": 2,
   "metadata": {},
   "outputs": [
    {
     "name": "stdout",
     "output_type": "stream",
     "text": [
      "dict_keys(['__header__', '__version__', '__globals__', 'X', 'Xval', 'yval'])\n"
     ]
    }
   ],
   "source": [
    "data = loadmat(\"/Users/nunopires/Documents/Coursera/machine-learning-ex8/ex8/ex8data1.mat\",\n",
    "       matlab_compatible = True)\n",
    "print(data.keys())"
   ]
  },
  {
   "cell_type": "code",
   "execution_count": 3,
   "metadata": {
    "collapsed": true
   },
   "outputs": [],
   "source": [
    "X = data['X']\n",
    "X_val = data['Xval']\n",
    "y_val = data['yval']"
   ]
  },
  {
   "cell_type": "code",
   "execution_count": 4,
   "metadata": {},
   "outputs": [
    {
     "data": {
      "text/plain": [
       "[<matplotlib.lines.Line2D at 0x1141aa2e8>]"
      ]
     },
     "execution_count": 4,
     "metadata": {},
     "output_type": "execute_result"
    },
    {
     "data": {
      "image/png": "[encoded data removed]",
      "text/plain": [
       "<matplotlib.figure.Figure at 0x111b66dd8>"
      ]
     },
     "metadata": {},
     "output_type": "display_data"
    }
   ],
   "source": [
    "plt.plot(X[:,0], X[:, 1], 'x')"
   ]
  },
  {
   "cell_type": "markdown",
   "metadata": {},
   "source": [
    "# Estimate Gaussian"
   ]
  },
  {
   "cell_type": "code",
   "execution_count": 5,
   "metadata": {},
   "outputs": [
    {
     "name": "stdout",
     "output_type": "stream",
     "text": [
      "mu = [ 14.11222578  14.99771051] \n",
      "sigma2 = [ 0.12986126  0.11400042]\n"
     ]
    }
   ],
   "source": [
    "mu = sum(X)/len(X)\n",
    "sigma2 = sum((X-mu)**2) / sum(X)\n",
    "\n",
    "print('mu = {0} \\nsigma2 = {1}'.format(mu, sigma2))"
   ]
  },
  {
   "cell_type": "markdown",
   "metadata": {},
   "source": [
    "Need to modify function to calculate multivariate distribution. Check slides Lecture 15, need to use the 'determinant' (Σ)"
   ]
  },
  {
   "cell_type": "code",
   "execution_count": 6,
   "metadata": {
    "collapsed": true
   },
   "outputs": [],
   "source": [
    "def pdf(x, mu, sigma2):\n",
    "    ''' Computes probability density function '''\n",
    "\n",
    "    sigma = math.sqrt(sigma2)\n",
    "    \n",
    "    part1 = 1 / (sigma * math.sqrt(2*math.pi))\n",
    "    part2 = -1/2 * ((x - mu) / sigma)**2\n",
    "    \n",
    "    return(part1 * math.exp(part2))\n",
    "\n",
    "if 0:# test\n",
    "    values = range(80, 120)\n",
    "    plt.plot(values, [pdf(x, 100, 10) for x in values])"
   ]
  },
  {
   "cell_type": "markdown",
   "metadata": {},
   "source": [
    "# Visualise fit"
   ]
  },
  {
   "cell_type": "code",
   "execution_count": 13,
   "metadata": {},
   "outputs": [
    {
     "data": {
      "text/plain": [
       "[array([ 0.30793846,  5.39141258]),\n",
       " array([  0.30793846,  14.37369257]),\n",
       " array([  0.30793846,  23.35597256]),\n",
       " array([ 14.42486214,   5.39141258]),\n",
       " array([ 14.42486214,  14.37369257]),\n",
       " array([ 14.42486214,  23.35597256]),\n",
       " array([ 28.54178582,   5.39141258]),\n",
       " array([ 28.54178582,  14.37369257]),\n",
       " array([ 28.54178582,  23.35597256])]"
      ]
     },
     "execution_count": 13,
     "metadata": {},
     "output_type": "execute_result"
    }
   ],
   "source": [
    "mesh = 100\n",
    "\n",
    "x1 = np.linspace(min(data['Xval'][:,0]), max(data['Xval'][:,0]), mesh)\n",
    "x2 = np.linspace(min(data['Xval'][:,1]), max(data['Xval'][:,1]), mesh)\n",
    "\n",
    "h = []\n",
    "for i in x1:\n",
    "    for j in x2:\n",
    "        h.append(np.array([i,j]))\n",
    "\n",
    "        \n",
    "plt.c"
   ]
  },
  {
   "cell_type": "markdown",
   "metadata": {},
   "source": [
    "# Find threshold"
   ]
  },
  {
   "cell_type": "code",
   "execution_count": null,
   "metadata": {
    "collapsed": true
   },
   "outputs": [],
   "source": []
  }
 ],
 "metadata": {
  "kernelspec": {
   "display_name": "Python [conda root]",
   "language": "python",
   "name": "conda-root-py"
  },
  "language_info": {
   "codemirror_mode": {
    "name": "ipython",
    "version": 3
   },
   "file_extension": ".py",
   "mimetype": "text/x-python",
   "name": "python",
   "nbconvert_exporter": "python",
   "pygments_lexer": "ipython3",
   "version": "3.6.0"
  }
 },
 "nbformat": 4,
 "nbformat_minor": 2
}
